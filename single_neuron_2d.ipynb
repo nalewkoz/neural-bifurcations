{
  "nbformat": 4,
  "nbformat_minor": 0,
  "metadata": {
    "colab": {
      "name": "single-neuron-2d.ipynb",
      "private_outputs": true,
      "provenance": [],
      "collapsed_sections": [],
      "authorship_tag": "ABX9TyPuHWaGDyq77WXn3Xns97dM",
      "include_colab_link": true
    },
    "kernelspec": {
      "name": "python3",
      "display_name": "Python 3"
    },
    "language_info": {
      "name": "python"
    }
  },
  "cells": [
    {
      "cell_type": "markdown",
      "metadata": {
        "id": "view-in-github",
        "colab_type": "text"
      },
      "source": [
        "<a href=\"https://colab.research.google.com/github/nalewkoz/neural-bifurcations/blob/main/single_neuron_2d.ipynb\" target=\"_parent\"><img src=\"https://colab.research.google.com/assets/colab-badge.svg\" alt=\"Open In Colab\"/></a>"
      ]
    },
    {
      "cell_type": "code",
      "metadata": {
        "id": "3BBp0_0hLDK8",
        "cellView": "form"
      },
      "source": [
        "# @title \n",
        "# @markdown *Run this cell to import packages, load helper functions, and set default parameters*\n",
        "\n",
        "# Standard imports\n",
        "\n",
        "import matplotlib.pyplot as plt\n",
        "import numpy as np\n",
        "\n",
        "# Figure ettings\n",
        "import ipywidgets as widgets       # interactive display\n",
        "%config InlineBackend.figure_format = 'retina'\n",
        "plt.style.use(\"https://raw.githubusercontent.com/NeuromatchAcademy/course-content/master/nma.mplstyle\")\n",
        "\n",
        "# @title Plotting Functions\n",
        "\n",
        "def default_pars(**kwargs):\n",
        "  pars = {}\n",
        "\n",
        "  # Keep:\n",
        "  pars[\"tau\"] = 1\n",
        "\n",
        "  # To play with:\n",
        "  pars[\"b0\"]   = 0.9\n",
        "  pars[\"b1\"]   = 1.1\n",
        "  pars[\"tauw\"] = 2\n",
        "  pars[\"I\"]     = 0\n",
        "\n",
        "  # simulation parameters\n",
        "  pars['T'] = 100.       # Total duration of simulation [ms]\n",
        "  pars['dt'] = .1       # Simulation time step [ms]\n",
        "\n",
        "  # External parameters if any\n",
        "  pars.update(kwargs)\n",
        "\n",
        "  # Vector of discretized time points [ms]\n",
        "  pars['range_t'] = np.arange(0, pars['T'], pars['dt'])\n",
        "  \n",
        "  return pars\n",
        "\n",
        "\n",
        "def plot_nullclines(u, w_u_null, w_w_null):\n",
        "\n",
        "  #plt.figure()\n",
        "  plt.plot(u, w_u_null, 'b', label='u-nullcline')\n",
        "  plt.plot(u, w_w_null, 'r', label='w-nullcline')\n",
        "  plt.xlabel(r'$u$')\n",
        "  plt.ylabel(r'$w$')\n",
        "  plt.ylim([-2,2.5])\n",
        "  plt.legend(loc='best')\n",
        "  #plt.show()\n",
        "\n",
        "\n",
        "def my_plot_vector(pars, my_n_skip=2, myscale=5):\n",
        "  uw_grid = np.linspace(-2.5, 2.5, 20)\n",
        "  u, w = np.meshgrid(uw_grid, uw_grid)\n",
        "  dudt, dwdt = uwderivs(u, w, **pars)\n",
        "\n",
        "  n_skip = my_n_skip\n",
        "\n",
        "  plt.quiver(u[::n_skip, ::n_skip], w[::n_skip, ::n_skip],\n",
        "             dudt[::n_skip, ::n_skip], dwdt[::n_skip, ::n_skip],\n",
        "             angles='xy', scale_units='xy', scale=myscale, facecolor='c')\n",
        "\n",
        "  plt.xlabel(r'$u$')\n",
        "  plt.ylabel(r'$w$')\n",
        "\n",
        "def simulate_uw(u_init, w_init, I, tau, tauw, dt, range_t, b0, b1, **other_pars):\n",
        " # Initialize activity arrays\n",
        "  Lt = range_t.size\n",
        "  u = np.append(u_init, np.zeros(Lt - 1))\n",
        "  w = np.append(w_init, np.zeros(Lt - 1))\n",
        "  I_ext = I * np.ones(Lt)\n",
        "  \n",
        "  for k in range(Lt - 1):\n",
        "\n",
        "    # Calculate the derivative of u\n",
        "    du = dt / tau* (u[k] - u[k]**3/3 - w[k] + I_ext[k])\n",
        "\n",
        "    # Calculate the derivative of w\n",
        "    dw = dt / tauw * ( b0 + b1*u[k] - w[k] )\n",
        "\n",
        "    # Update using Euler's method\n",
        "    u[k + 1] = u[k] + du\n",
        "    w[k + 1] = w[k] + dw\n",
        "\n",
        "  return u, w\n",
        "\n",
        "def my_plot_trajectory(pars, mycolor, x_init, mylabel):\n",
        "  pars = pars.copy()\n",
        "  pars['u_init'], pars['w_init'] = x_init[0], x_init[1]\n",
        "  u_tj, w_tj = simulate_uw(**pars)\n",
        "\n",
        "  plt.plot(u_tj, w_tj, color=mycolor, label=mylabel)\n",
        "  plt.plot(x_init[0], x_init[1], 'o', color=mycolor, ms=8)\n",
        "  plt.xlabel(r'$u$')\n",
        "  plt.ylabel(r'$w$')\n",
        "  return u_tj, w_tj\n",
        "\n",
        "def my_plot_intime(pars, u, w):\n",
        "  ttab = pars['range_t']\n",
        "  plt.plot(ttab, u, 'k-', label=r'$u$')\n",
        "  plt.plot(ttab, w, 'k:', label=r'$w$')\n",
        "\n",
        "\n",
        "def my_plot_trajectories(pars, dx, n, mylabel):\n",
        "  \"\"\"\n",
        "  Expects:\n",
        "  pars    : Parameter dictionary\n",
        "  dx      : increment of initial values\n",
        "  n       : n*n trjectories\n",
        "  mylabel : label for legend\n",
        "\n",
        "  Returns:\n",
        "    figure of trajectory\n",
        "  \"\"\"\n",
        "  pars = pars.copy()\n",
        "  for ie in range(n):\n",
        "    for ii in range(n):\n",
        "      pars['u_init'], pars['w_init'] = dx * ie, dx * ii\n",
        "      u_tj, w_tj = simulate_uw(**pars)\n",
        "      if (ie == n-1) & (ii == n-1):\n",
        "          plt.plot(u_tj, w_tj, 'gray', alpha=0.8, label=mylabel)\n",
        "      else:\n",
        "          plt.plot(u_tj, w_tj, 'gray', alpha=0.8)\n",
        "\n",
        "  plt.xlabel(r'$u$')\n",
        "  plt.ylabel(r'$w$')\n",
        "\n",
        "def plot_all(pars, u_tab, u_init, w_init):        \n",
        "    # Compute nullclines\n",
        "    w_u_null = get_w_at_u_nullcline(u_tab, **pars)\n",
        "    w_w_null = get_w_at_w_nullcline(u_tab, **pars)\n",
        "\n",
        "    plt.figure(figsize=(16,7))\n",
        "    plt.subplot(1,2,1)\n",
        "    # Visualize nullclines\n",
        "    plot_nullclines(u_tab, w_u_null, w_w_null)\n",
        "\n",
        "    # Vector field\n",
        "    my_plot_vector(pars)\n",
        "\n",
        "    # Trajectory\n",
        "\n",
        "    u_traj, w_traj = my_plot_trajectory(pars,'gray',[u_init, w_init],'blah')\n",
        "\n",
        "    plt.subplot(1,2,2)\n",
        "    my_plot_intime(pars, u_traj, w_traj)\n",
        "    plt.xlabel('time')\n",
        "    plt.ylabel('u/w')\n",
        "    plt.legend()"
      ],
      "execution_count": null,
      "outputs": []
    },
    {
      "cell_type": "markdown",
      "metadata": {
        "id": "j_Ybw6pDBwfZ"
      },
      "source": [
        "# Section 1: 2D models of neurons"
      ]
    },
    {
      "cell_type": "markdown",
      "metadata": {
        "id": "wYiQk1ocB71L"
      },
      "source": [
        "The Hodgkin-Huxley (HH) model is not easy to analyze, especially without simulations. Leaky integrate-and-fire models are simple, but seem \"artificial\": action potentials are generated by construction, through an arbitrary threshold. Fortunately, approximate 2D models exist, which will allow us to understand in more detail possible mechanisms of spike generation. The general form of these two dimensional models is\n",
        "\\begin{align}\n",
        "\\tau \\dot{u} &= F(u,w) + R I\n",
        "\\\\\n",
        "\\tau_w \\dot{w} &= G(u,w),\n",
        "\\end{align}\n",
        "where \n",
        "$u$, $I$, and $R$ denote the membrane voltage, input current, and resistance. We also have some general (unknown at the moment) functions $F$ and $G$. $w$ is known as a 'recovery variable'. It summarizes the dynamics of three gating variables describing dynamics of sodium and potassium channels in the HH model.\n",
        "\n",
        "Importantly $\\tau_w \\gg \\tau$, i.e., the dynamics of the recovery variable is slow compared to the dynamics of the voltage. This is part of the reason why leaky integrate-and-fire models work pretty well. "
      ]
    },
    {
      "cell_type": "markdown",
      "metadata": {
        "id": "d1QMd2HrA8Qk"
      },
      "source": [
        "# Section 2: FitzHugh-Nagumo model"
      ]
    },
    {
      "cell_type": "markdown",
      "metadata": {
        "id": "3Dq8A5CEBJZE"
      },
      "source": [
        "The FitzHugh-Nagumo model is given by the equations:\n",
        "\\begin{align}\n",
        "F(u,w) &= u - \\frac{1}{3}u^3 - w\n",
        "\\\\\n",
        "G(u,w) &= b_0 + b_1 u - w.\n",
        "\\end{align}\n",
        "Note that both equations are linear in $w$. The only nonlinearity is pretty simple: a cubic term in $u$."
      ]
    },
    {
      "cell_type": "markdown",
      "metadata": {
        "id": "40P4Z8AaIRUG"
      },
      "source": [
        "## Section 2.1: Nullclines"
      ]
    },
    {
      "cell_type": "markdown",
      "metadata": {
        "id": "p9UGMRXZLwPS"
      },
      "source": [
        "Here, we will plot nullclines. \n",
        "* u-nullcline is a set of point defined by the equation $\\dot{u} = 0$.\n",
        "* w-nullcline is a set of point defined by the equation $\\dot{w} = 0$.\n",
        "\n",
        "Note that our equations for nullclines admit a very simple form that can be easily solved for $w$. Thus, we will calculate $w$ given $u$ on a given nullcline.\n",
        "\n",
        "Plot nullclines for different values of $I$. You can also play with other parameters. Answer questions:\n",
        "1. What kind of object are nullclines geometrically?\n",
        "2. What happens at the intersections of two nullclines?"
      ]
    },
    {
      "cell_type": "code",
      "metadata": {
        "id": "G44XbPrtA4Qg"
      },
      "source": [
        "def get_w_at_u_nullcline(u, I, **other_pars):\n",
        "    '''w as a function of u at the u-nullcline'''\n",
        "    ######################################################################\n",
        "    # TODO for students: return the value of w as a function of u at the \n",
        "    # u-nullcline\n",
        "    raise NotImplementedError(\"Student exercise: compute the vector field\")\n",
        "    ######################################################################\n",
        "    return ...\n",
        "\n",
        "def get_w_at_w_nullcline(u, b0, b1, **other_pars):\n",
        "    '''w as a function of u at the w-nullcline'''\n",
        "    return b0 + b1*u\n",
        "\n",
        "# Set parameters\n",
        "pars = default_pars(b0=0.9, b1=1.1, I=0)\n",
        "u_tab = np.linspace(-2.5, 2.5, 100)\n",
        "\n",
        "# Compute nullclines\n",
        "w_u_null = get_w_at_u_nullcline(u_tab, **pars)\n",
        "w_w_null = get_w_at_w_nullcline(u_tab, **pars)\n",
        "\n",
        "# Visualize\n",
        "plot_nullclines(u_tab, w_u_null, w_w_null)"
      ],
      "execution_count": null,
      "outputs": []
    },
    {
      "cell_type": "markdown",
      "metadata": {
        "id": "iCbievTBYHGe"
      },
      "source": [
        "## Section 2.2: Vector field and trajectories"
      ]
    },
    {
      "cell_type": "markdown",
      "metadata": {
        "id": "kdfF9Cz4eoQs"
      },
      "source": [
        "The values of $u(t)$ and $w(t)$ at each time point $t$ correspond to a single point in the phase plane, with coordinates $(u(t),w(t))$. Therefore, the time-dependent trajectory of the system can be described as a continuous curve in the phase plane, and the tangent vector to the trajectory, which is defined as the vector $\\bigg{(}\\displaystyle{\\frac{du(t)}{dt},\\frac{dw(t)}{dt}}\\bigg{)}$, indicates the direction towards which the activity is evolving and how fast is the activity changing along each axis. In fact, for each point $(u,w)$ in the phase plane, we can compute the tangent vector $\\bigg{(}\\displaystyle{\\frac{du}{dt},\\frac{dw}{dt}}\\bigg{)}$, which  indicates the behavior of the system when it traverses that point. \n",
        "\n",
        "The map of tangent vectors in the phase plane is called **vector field**. The behavior of any trajectory in the phase plane is determined by i) the initial conditions $(u(0),w(0))$, and ii) the vector field $(\\dot{u}, \\dot{w})$.\n",
        "\n",
        "In general, the value of the vector field at a particular point in the phase plane is represented by an arrow. The orientation and the size of the arrow reflect the direction and the norm of the vector, respectively."
      ]
    },
    {
      "cell_type": "markdown",
      "metadata": {
        "id": "4VjhRFo3TtpR"
      },
      "source": [
        "Now let's plot and analyze the vector field and a sample trajectory. \n",
        "\n",
        "1. Implement the function that calculates $\\dot{u} =\\frac{d u}{d t}$ \n",
        "and $\\dot{w} =\\frac{d w}{d t}$.\n",
        "2. Change the initial conditions (focus on $u$) for $I=0$. What kind of stimulation protocol does this correspond to? Do we observe a threshold behavior here? Are action potential stereotypical?\n",
        "3. Now change $I$. Can we define a threshold? What kind of bifurcation does the system exhibit?\n",
        "\n"
      ]
    },
    {
      "cell_type": "code",
      "metadata": {
        "id": "9qsSEIqpMgi6"
      },
      "source": [
        "def uwderivs(u, w, b0, b1, I, tau, tauw, **other_pars):\n",
        "  \"\"\"Time derivatives for u and w\"\"\"\n",
        "  ######################################################################\n",
        "  # TODO for students: compute dudt and dwdt\n",
        "  raise NotImplementedError(\"Student exercise: compute the vector field\")\n",
        "  ######################################################################\n",
        "\n",
        "  # Compute the derivative of u\n",
        "  dudt = ...\n",
        "\n",
        "  # Compute the derivative of w\n",
        "  dwdt = ...\n",
        "\n",
        "  return dudt, dwdt\n",
        "\n",
        "\n",
        "# Set parameters\n",
        "pars = default_pars(b0=0.9, b1=1.1, tauw=5, I=0.55)\n",
        "u_init = -1.5\n",
        "w_init = -0.6\n",
        "u_tab = np.linspace(-2.5, 2.5, 100)\n",
        "plot_all(pars, u_tab, u_init, w_init)"
      ],
      "execution_count": null,
      "outputs": []
    }
  ]
}