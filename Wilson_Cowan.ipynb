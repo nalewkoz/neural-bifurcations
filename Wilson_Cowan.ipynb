{
  "nbformat": 4,
  "nbformat_minor": 0,
  "metadata": {
    "colab": {
      "name": "Wilson-Cowan.ipynb",
      "private_outputs": true,
      "provenance": [],
      "collapsed_sections": [
        "AR5KtV6yWn7c",
        "YBPt1zT3TrPX",
        "BFCzVjz5WUb3",
        "i9ZibMl6H6nq",
        "NdTWeh0qSVtt",
        "TEyOtX1KKk8P",
        "hYzvC9T_O7Zg",
        "RBeUsKfnPYtU",
        "p-KHb1pqSDvn",
        "rtE4WHScSkTU",
        "B1xxGt37UjVI",
        "o6QhgY5UYVTt",
        "GLUfHzKxf54D",
        "DX3Wry0wgwYy",
        "uKl03PN-hIMa",
        "6EQSbGbrhVb3",
        "njTIMThKjWCs",
        "qEKtaflnklBK",
        "1D_VpqzSnSbe",
        "OeT_9pKrpomB",
        "3MheOEFnoieA",
        "bzK0vmz3phQz",
        "YQpTZTfBsazk",
        "fuHz-MFas3EE",
        "-CTTU-kJy4F-",
        "A465je42y1RM"
      ],
      "authorship_tag": "ABX9TyNF3eU0CE+Xo+Qj61CEerzB",
      "include_colab_link": true
    },
    "kernelspec": {
      "name": "python3",
      "display_name": "Python 3"
    },
    "language_info": {
      "name": "python"
    }
  },
  "cells": [
    {
      "cell_type": "markdown",
      "metadata": {
        "id": "view-in-github",
        "colab_type": "text"
      },
      "source": [
        "<a href=\"https://colab.research.google.com/github/nalewkoz/neural-bifurcations/blob/main/Wilson_Cowan.ipynb\" target=\"_parent\"><img src=\"https://colab.research.google.com/assets/colab-badge.svg\" alt=\"Open In Colab\"/></a>"
      ]
    },
    {
      "cell_type": "markdown",
      "metadata": {
        "id": "uDzqhY2GYad9"
      },
      "source": [
        "This notebook is based on the [Neuromatch Academy 2021 tutorial materials](https://github.com/NeuromatchAcademy/course-content/blob/master/tutorials/README.md)\n",
        "(Week 2 Day 4). Here, we will go through a shortened version, focusing mostly on the bifurcations. If you are interested in more details, I strongly recommend going through the full version of the tutorial."
      ]
    },
    {
      "cell_type": "code",
      "metadata": {
        "id": "W8mBGeChUtUh",
        "cellView": "form"
      },
      "source": [
        "# @title \n",
        "# @markdown *Run this cell to import packages, load helper functions, and set default parameters*\n",
        "\n",
        "# Standard imports\n",
        "\n",
        "import matplotlib.pyplot as plt\n",
        "import numpy as np\n",
        "import scipy.optimize as opt       # root-finding algorithm\n",
        "\n",
        "# Figure ettings\n",
        "import ipywidgets as widgets       # interactive display\n",
        "%config InlineBackend.figure_format = 'retina'\n",
        "plt.style.use(\"https://raw.githubusercontent.com/NeuromatchAcademy/course-content/master/nma.mplstyle\")\n",
        "\n",
        "# @title Plotting Functions\n",
        "\n",
        "def plot_fI(x, f):\n",
        "  plt.figure(figsize=(6, 4))  # plot the figure\n",
        "  plt.plot(x, f, 'k')\n",
        "  plt.xlabel('x (a.u.)', fontsize=14)\n",
        "  plt.ylabel('F(x)', fontsize=14)\n",
        "  plt.show()\n",
        "\n",
        "\n",
        "def plot_dr_r(r, drdt, x_fps=None):\n",
        "  plt.figure()\n",
        "  plt.plot(r, drdt, 'k')\n",
        "  plt.plot(r, 0. * r, 'k--')\n",
        "  if x_fps is not None:\n",
        "    plt.plot(x_fps, np.zeros_like(x_fps), \"ko\", ms=12)\n",
        "  plt.xlabel(r'$r_E$', fontsize=16)\n",
        "  plt.ylabel(r'$\\frac{dr_E}{dt}$', fontsize=20)\n",
        "  plt.ylim(-0.1, 0.1)\n",
        "\n",
        "\n",
        "def plot_dFdt(x, dFdt):\n",
        "  plt.figure()\n",
        "  plt.plot(x, dFdt, 'r')\n",
        "  plt.xlabel('x (a.u.)', fontsize=14)\n",
        "  plt.ylabel('dF(x)', fontsize=14)\n",
        "  plt.show()\n",
        "\n",
        "def default_pars_single(**kwargs):\n",
        "  pars = {}\n",
        "\n",
        "  # Excitatory parameters\n",
        "  pars['tau'] = 1.     # Timescale of the E population [ms]\n",
        "  pars['a'] = 1.2      # Gain of the E population\n",
        "  pars['theta'] = 2.8  # Threshold of the E population\n",
        "\n",
        "  # Connection strength\n",
        "  pars['w'] = 0.  # E to E, we first set it to 0\n",
        "\n",
        "  # External input\n",
        "  pars['I_ext'] = 0.\n",
        "\n",
        "  # simulation parameters\n",
        "  pars['T'] = 20.       # Total duration of simulation [ms]\n",
        "  pars['dt'] = .1       # Simulation time step [ms]\n",
        "  pars['r_init'] = 0.2  # Initial value of E\n",
        "\n",
        "  # External parameters if any\n",
        "  pars.update(kwargs)\n",
        "\n",
        "  # Vector of discretized time points [ms]\n",
        "  pars['range_t'] = np.arange(0, pars['T'], pars['dt'])\n",
        "\n",
        "  return pars\n",
        "\n",
        "pars = default_pars_single()\n",
        "print(\"pars:\")\n",
        "print(pars)\n",
        "\n",
        "def plot_FI_inverse(x, a, theta):\n",
        "  f, ax = plt.subplots()\n",
        "  ax.plot(x, F_inv(x, a=a, theta=theta))\n",
        "  ax.set(xlabel=\"$x$\", ylabel=\"$F^{-1}(x)$\")\n",
        "\n",
        "\n",
        "def plot_FI_EI(x, FI_exc, FI_inh):\n",
        "  plt.figure()\n",
        "  plt.plot(x, FI_exc, 'b', label='E population')\n",
        "  plt.plot(x, FI_inh, 'r', label='I population')\n",
        "  plt.legend(loc='lower right')\n",
        "  plt.xlabel('x (a.u.)')\n",
        "  plt.ylabel('F(x)')\n",
        "  plt.show()\n",
        "\n",
        "\n",
        "def my_test_plot(t, rE1, rI1, rE2, rI2):\n",
        "\n",
        "  plt.figure()\n",
        "  ax1 = plt.subplot(211)\n",
        "  ax1.plot(pars['range_t'], rE1, 'b', label='E population')\n",
        "  ax1.plot(pars['range_t'], rI1, 'r', label='I population')\n",
        "  ax1.set_ylabel('Activity')\n",
        "  ax1.legend(loc='best')\n",
        "\n",
        "  ax2 = plt.subplot(212, sharex=ax1, sharey=ax1)\n",
        "  ax2.plot(pars['range_t'], rE2, 'b', label='E population')\n",
        "  ax2.plot(pars['range_t'], rI2, 'r', label='I population')\n",
        "  ax2.set_xlabel('t (ms)')\n",
        "  ax2.set_ylabel('Activity')\n",
        "  ax2.legend(loc='best')\n",
        "\n",
        "  plt.tight_layout()\n",
        "  plt.show()\n",
        "\n",
        "\n",
        "def plot_nullclines(Exc_null_rE, Exc_null_rI, Inh_null_rE, Inh_null_rI):\n",
        "\n",
        "  plt.figure()\n",
        "  plt.plot(Exc_null_rE, Exc_null_rI, 'b', label='E nullcline')\n",
        "  plt.plot(Inh_null_rE, Inh_null_rI, 'r', label='I nullcline')\n",
        "  plt.xlabel(r'$r_E$')\n",
        "  plt.ylabel(r'$r_I$')\n",
        "  plt.legend(loc='best')\n",
        "  plt.show()\n",
        "\n",
        "\n",
        "def my_plot_nullcline(pars):\n",
        "  Exc_null_rE = np.linspace(-0.01, 0.96, 100)\n",
        "  Exc_null_rI = get_E_nullcline(Exc_null_rE, **pars)\n",
        "  Inh_null_rI = np.linspace(-.01, 0.8, 100)\n",
        "  Inh_null_rE = get_I_nullcline(Inh_null_rI, **pars)\n",
        "\n",
        "  plt.plot(Exc_null_rE, Exc_null_rI, 'b', label='E nullcline')\n",
        "  plt.plot(Inh_null_rE, Inh_null_rI, 'r', label='I nullcline')\n",
        "  plt.xlabel(r'$r_E$')\n",
        "  plt.ylabel(r'$r_I$')\n",
        "  plt.legend(loc='best')\n",
        "\n",
        "\n",
        "def my_plot_vector(pars, my_n_skip=2, myscale=5):\n",
        "  EI_grid = np.linspace(0., 1., 20)\n",
        "  rE, rI = np.meshgrid(EI_grid, EI_grid)\n",
        "  drEdt, drIdt = EIderivs(rE, rI, **pars)\n",
        "\n",
        "  n_skip = my_n_skip\n",
        "\n",
        "  plt.quiver(rE[::n_skip, ::n_skip], rI[::n_skip, ::n_skip],\n",
        "             drEdt[::n_skip, ::n_skip], drIdt[::n_skip, ::n_skip],\n",
        "             angles='xy', scale_units='xy', scale=myscale, facecolor='c')\n",
        "\n",
        "  plt.xlabel(r'$r_E$')\n",
        "  plt.ylabel(r'$r_I$')\n",
        "\n",
        "\n",
        "def my_plot_trajectory(pars, mycolor, x_init, mylabel):\n",
        "  pars = pars.copy()\n",
        "  pars['rE_init'], pars['rI_init'] = x_init[0], x_init[1]\n",
        "  rE_tj, rI_tj = simulate_wc(**pars)\n",
        "\n",
        "  plt.plot(rE_tj, rI_tj, color=mycolor, label=mylabel)\n",
        "  plt.plot(x_init[0], x_init[1], 'o', color=mycolor, ms=8)\n",
        "  plt.xlabel(r'$r_E$')\n",
        "  plt.ylabel(r'$r_I$')\n",
        "\n",
        "\n",
        "def my_plot_trajectories(pars, dx, n, mylabel):\n",
        "  \"\"\"\n",
        "  Solve for I along the E_grid from dE/dt = 0.\n",
        "\n",
        "  Expects:\n",
        "  pars    : Parameter dictionary\n",
        "  dx      : increment of initial values\n",
        "  n       : n*n trjectories\n",
        "  mylabel : label for legend\n",
        "\n",
        "  Returns:\n",
        "    figure of trajectory\n",
        "  \"\"\"\n",
        "  pars = pars.copy()\n",
        "  for ie in range(n):\n",
        "    for ii in range(n):\n",
        "      pars['rE_init'], pars['rI_init'] = dx * ie, dx * ii\n",
        "      rE_tj, rI_tj = simulate_wc(**pars)\n",
        "      if (ie == n-1) & (ii == n-1):\n",
        "          plt.plot(rE_tj, rI_tj, 'gray', alpha=0.8, label=mylabel)\n",
        "      else:\n",
        "          plt.plot(rE_tj, rI_tj, 'gray', alpha=0.8)\n",
        "\n",
        "  plt.xlabel(r'$r_E$')\n",
        "  plt.ylabel(r'$r_I$')\n",
        "\n",
        "\n",
        "def plot_complete_analysis(pars):\n",
        "  plt.figure(figsize=(7.7, 6.))\n",
        "\n",
        "  # plot example trajectories\n",
        "  my_plot_trajectories(pars, 0.2, 6,\n",
        "                       'Sample trajectories \\nfor different init. conditions')\n",
        "  my_plot_trajectory(pars, 'orange', [0.6, 0.8],\n",
        "                     'Sample trajectory for \\nlow activity')\n",
        "  my_plot_trajectory(pars, 'm', [0.6, 0.6],\n",
        "                     'Sample trajectory for \\nhigh activity')\n",
        "\n",
        "  # plot nullclines\n",
        "  my_plot_nullcline(pars)\n",
        "\n",
        "  # plot vector field\n",
        "  EI_grid = np.linspace(0., 1., 20)\n",
        "  rE, rI = np.meshgrid(EI_grid, EI_grid)\n",
        "  drEdt, drIdt = EIderivs(rE, rI, **pars)\n",
        "  n_skip = 2\n",
        "  plt.quiver(rE[::n_skip, ::n_skip], rI[::n_skip, ::n_skip],\n",
        "             drEdt[::n_skip, ::n_skip], drIdt[::n_skip, ::n_skip],\n",
        "             angles='xy', scale_units='xy', scale=5., facecolor='c')\n",
        "\n",
        "  plt.legend(loc=[1.02, 0.57], handlelength=1)\n",
        "  plt.show()\n",
        "\n",
        "\n",
        "def plot_fp(x_fp, position=(0.02, 0.1), rotation=0):\n",
        "  plt.plot(x_fp[0], x_fp[1], 'ko', ms=8)\n",
        "  plt.text(x_fp[0] + position[0], x_fp[1] + position[1],\n",
        "           f'Fixed Point1=\\n({x_fp[0]:.3f}, {x_fp[1]:.3f})',\n",
        "           horizontalalignment='center', verticalalignment='bottom',\n",
        "           rotation=rotation)"
      ],
      "execution_count": null,
      "outputs": []
    },
    {
      "cell_type": "markdown",
      "metadata": {
        "id": "AR5KtV6yWn7c"
      },
      "source": [
        "# Section 1: Dynamics of a single feed-forward population\n",
        "\n",
        "Individual neurons respond by spiking. When we average the spikes of neurons in a population, we can define the average firing activity of the population. In this model, we are interested in how the population-averaged firing varies as a function of time and network parameters. Mathematically, we can describe the firing rate dynamic of a feed-forward network as:\n",
        "\n",
        "\\begin{align}\n",
        "\\tau \\frac{dr}{dt} &= -r + F(I_{\\text{ext}})  \n",
        "\\end{align}\n",
        "\n",
        "$r(t)$ represents the average firing rate of the neural population of interest at time $t$, $\\tau$ controls the timescale of the evolution of the average firing rate, $I_{\\text{ext}}$ represents the external input, and the transfer function $F(\\cdot)$ (which can be related to f-I curve of individual neurons described in the next sections) represents the population activation function in response to all received inputs.\n"
      ]
    },
    {
      "cell_type": "markdown",
      "metadata": {
        "id": "YBPt1zT3TrPX"
      },
      "source": [
        "## Section 1.1: F-I curves"
      ]
    },
    {
      "cell_type": "markdown",
      "metadata": {
        "id": "CvIdOAn6TrWR"
      },
      "source": [
        "### Coding Exercise 1.1: Implement F-I curve \n",
        "\n",
        "Let's first investigate the activation functions before simulating the dynamics of the entire population. \n",
        "\n",
        "In this exercise, you will implement a sigmoidal **F-I** curve or transfer function $F(x)$, with gain $a$ and threshold level $\\theta$ as parameters:\n",
        "\n",
        "$$ F(x;a,\\theta) = \\frac{1}{1+\\text{e}^{-a(x-\\theta)}} - \\frac{1}{1+\\text{e}^{a\\theta}}$$"
      ]
    },
    {
      "cell_type": "code",
      "metadata": {
        "id": "b1sGMXusUBRY"
      },
      "source": [
        "def F(x, a, theta):\n",
        "  \"\"\"\n",
        "  Population activation function.\n",
        "\n",
        "  Args:\n",
        "    x (float): the population input\n",
        "    a (float): the gain of the function\n",
        "    theta (float): the threshold of the function\n",
        "\n",
        "  Returns:\n",
        "    float: the population activation response F(x) for input x\n",
        "  \"\"\"\n",
        "  #################################################\n",
        "  ## TODO for students: compute f = F(x) ##\n",
        "  # Fill out function and remove\n",
        "  raise NotImplementedError(\"Student excercise: implement the f-I function\")\n",
        "  #################################################\n",
        "\n",
        "  # Define the sigmoidal transfer function f = F(x)\n",
        "  f = ...\n",
        "\n",
        "  return f\n",
        "\n",
        "\n",
        "# Set parameters\n",
        "pars = default_pars_single()  # get default parameters\n",
        "x = np.arange(0, 10, .1)      # set the range of input\n",
        "\n",
        "# Compute transfer function\n",
        "f = F(x, pars['a'], pars['theta'])\n",
        "\n",
        "# Visualize\n",
        "plot_fI(x, f)"
      ],
      "execution_count": null,
      "outputs": []
    },
    {
      "cell_type": "markdown",
      "metadata": {
        "id": "RU3NFBqWUBE4"
      },
      "source": [
        "### Interactive Demo 1.1 : Parameter exploration of F-I curve\n",
        "Here's an interactive demo that shows how the F-I curve changes for different values of the gain and threshold parameters. \n",
        "\n",
        "1. How does the gain parameter ($a$) affect the F-I curve?\n",
        "1. How does the threshold parameter ($\\theta$) affect the F-I curve?"
      ]
    },
    {
      "cell_type": "code",
      "metadata": {
        "cellView": "form",
        "id": "JXQ4sw6LT_jx"
      },
      "source": [
        "# @markdown *Make sure you execute this cell to enable the widget!*\n",
        "\n",
        "\n",
        "def interactive_plot_FI(a, theta):\n",
        "  \"\"\"\n",
        "  Population activation function.\n",
        "\n",
        "  Expecxts:\n",
        "    a     : the gain of the function\n",
        "    theta : the threshold of the function\n",
        "\n",
        "  Returns:\n",
        "    plot the F-I curve with give parameters\n",
        "  \"\"\"\n",
        "\n",
        "  # set the range of input\n",
        "  x = np.arange(0, 10, .1)\n",
        "  plt.figure()\n",
        "  plt.plot(x, F(x, a, theta), 'k')\n",
        "  plt.xlabel('x (a.u.)', fontsize=14)\n",
        "  plt.ylabel('F(x)', fontsize=14)\n",
        "  plt.show()\n",
        "\n",
        "\n",
        "_ = widgets.interact(interactive_plot_FI, a=(0.3, 3, 0.3), theta=(2, 4, 0.2))"
      ],
      "execution_count": null,
      "outputs": []
    },
    {
      "cell_type": "markdown",
      "metadata": {
        "id": "BFCzVjz5WUb3"
      },
      "source": [
        "## Section 1.2: Simulation scheme of dynamics\n",
        "\n",
        "In more complicated cases, the exact solution of a given set of differential equations may be difficult or impossible to solve analytically. As we have seen before, we can use numerical methods, specifically the Euler method, to find the solution (that is, simulate the population activity)."
      ]
    },
    {
      "cell_type": "code",
      "metadata": {
        "id": "k0tRsMvIXQP6",
        "cellView": "form"
      },
      "source": [
        "# @title \n",
        "# @markdown *Execute this cell to enable the single population rate model simulator: `simulate_single`*\n",
        "\n",
        "\n",
        "def simulate_single(pars):\n",
        "  \"\"\"\n",
        "  Simulate a feedforward population of neurons\n",
        "\n",
        "  Args:\n",
        "    pars   : Parameter dictionary\n",
        "\n",
        "  Returns:\n",
        "    r     : Activity of the population (array)\n",
        "\n",
        "  Example:\n",
        "    pars = default_pars_single()\n",
        "    r = simulate_single(pars)\n",
        "  \"\"\"\n",
        "\n",
        "  # Set parameters\n",
        "  tau, a, theta = pars['tau'], pars['a'], pars['theta']\n",
        "  w = pars['w']\n",
        "  I_ext = pars['I_ext']\n",
        "  r_init = pars['r_init']\n",
        "  dt, range_t = pars['dt'], pars['range_t']\n",
        "  Lt = range_t.size\n",
        "\n",
        "  # Initialize activity\n",
        "  r = np.zeros(Lt)\n",
        "  r[0] = r_init\n",
        "  I_ext = I_ext * np.ones(Lt)\n",
        "\n",
        "  # Update the E activity\n",
        "  for k in range(Lt - 1):\n",
        "      dr = dt / tau * (-r[k] + F(w * r[k] + I_ext[k], a, theta))\n",
        "      r[k+1] = r[k] + dr\n",
        "\n",
        "  return r\n",
        "\n",
        "help(simulate_single)"
      ],
      "execution_count": null,
      "outputs": []
    },
    {
      "cell_type": "markdown",
      "metadata": {
        "id": "Vw1yzMlPHIiF"
      },
      "source": [
        "### Interactive Demo 1.2: Parameter Exploration of single population dynamics\n",
        "\n",
        "Explore these dynamics of the population activity in this interactive demo.\n",
        "\n",
        "1.  How does $r_{\\text{sim}}(t)$ change with different $I_{\\text{ext}}$ values? \n",
        "2.  How does it change with different $\\tau$ values? \n",
        "\n",
        "\n",
        "Note that, $r_{\\rm ana}(t)$ denotes the analytical solution. W do not learn how to solve this here, but in this particular case the ODE is linear, thus it is straightforward to obtain the solution, and it has a simple form (an exponential decay)."
      ]
    },
    {
      "cell_type": "code",
      "metadata": {
        "id": "CbkIn-VNXUZw",
        "cellView": "form"
      },
      "source": [
        "# @title\n",
        "\n",
        "# @markdown Make sure you execute this cell to enable the widget!\n",
        "\n",
        "# get default parameters\n",
        "pars = default_pars_single(T=20.)\n",
        "\n",
        "\n",
        "def Myplot_E_diffI_difftau(I_ext, tau):\n",
        "  # set external input and time constant\n",
        "  pars['I_ext'] = I_ext\n",
        "  pars['tau'] = tau\n",
        "\n",
        "  # simulation\n",
        "  r = simulate_single(pars)\n",
        "\n",
        "  # Analytical Solution\n",
        "  r_ana = (pars['r_init']\n",
        "           + (F(I_ext, pars['a'], pars['theta'])\n",
        "           - pars['r_init']) * (1. - np.exp(-pars['range_t'] / pars['tau'])))\n",
        "\n",
        "  # plot\n",
        "  plt.figure()\n",
        "  plt.plot(pars['range_t'], r, 'b', label=r'$r_{\\mathrm{sim}}$(t)', alpha=0.5,\n",
        "           zorder=1)\n",
        "  plt.plot(pars['range_t'], r_ana, 'b--', lw=5, dashes=(2, 2),\n",
        "           label=r'$r_{\\mathrm{ana}}$(t)', zorder=2)\n",
        "  plt.plot(pars['range_t'],\n",
        "           F(I_ext, pars['a'], pars['theta']) * np.ones(pars['range_t'].size),\n",
        "           'k--', label=r'$F(I_{\\mathrm{ext}})$')\n",
        "  plt.xlabel('t (ms)', fontsize=16.)\n",
        "  plt.ylabel('Activity r(t)', fontsize=16.)\n",
        "  plt.legend(loc='best', fontsize=14.)\n",
        "  plt.show()\n",
        "\n",
        "\n",
        "_ = widgets.interact(Myplot_E_diffI_difftau, I_ext=(0.0, 10., 1.),\n",
        "                     tau=(1., 5., 0.2))"
      ],
      "execution_count": null,
      "outputs": []
    },
    {
      "cell_type": "markdown",
      "metadata": {
        "id": "fvroXBNvH_9y"
      },
      "source": [
        "## Section 1.3: Dicussion (think!) \n",
        "\n",
        "Above, we have numerically solved a system driven by a positive input. Yet, $r(t)$ either decays to zero or reaches a fixed non-zero value.\n",
        "\n",
        "1. Why doesn't the solution of the system \"explode\" in a finite time? In other words, what guarantees that $r$(t) stays finite? \n",
        "2. Which parameter would you change in order to increase the maximum value of the response? "
      ]
    },
    {
      "cell_type": "markdown",
      "metadata": {
        "id": "i9ZibMl6H6nq"
      },
      "source": [
        "# Section 2: Dynamics of a single excitatory population\n",
        "\n",
        "Here, we will add a \"feedback loop\" representing connections between neurons in the population. Because the population is assumed to be excitatory, the feedback is positive. \n",
        "\n",
        "$$\\frac{dr_E}{dt} = [-r_E + F(w\\cdot r_E + I^{\\text{ext}})]\\,/\\,\\tau $$\n"
      ]
    },
    {
      "cell_type": "markdown",
      "metadata": {
        "id": "NdTWeh0qSVtt"
      },
      "source": [
        "## Section 2.1: Finding fixed points"
      ]
    },
    {
      "cell_type": "markdown",
      "metadata": {
        "id": "TEyOtX1KKk8P"
      },
      "source": [
        "### Coding Exercise 2.1.1: Visualization of the fixed points\n",
        "\n",
        "Let us use the techniques that we have developed in the past two weeks. As you should appreciate by now, when it is not possible to find the solution analytically, a graphical approach can be taken. To that end, it is useful to plot $\\displaystyle{\\frac{dr_E}{dt}}$ as a function of $r_E$. The values of $r_E$ for which the plotted function crosses zero on the y axis correspond to fixed points. \n",
        "\n",
        "Here, let us, for example, set $w=5.0$ and $I^{\\text{ext}}=0.3$. \n",
        "\n",
        "Then, plot the $dr_E/dt$ as a function of $r_E$, and check for the presence of fixed points. "
      ]
    },
    {
      "cell_type": "code",
      "metadata": {
        "id": "yiUQpwX4IwC1"
      },
      "source": [
        "def compute_drdt(r, I_ext, w, a, theta, tau, **other_pars):\n",
        "  \"\"\"Given parameters, compute dr/dt as a function of r.\n",
        "\n",
        "  Args:\n",
        "    r (1D array) : Average firing rate of the excitatory population\n",
        "    I_ext, w, a, theta, tau (numbers): Simulation parameters to use\n",
        "    other_pars : Other simulation parameters are unused by this function\n",
        "\n",
        "  Returns\n",
        "    drdt function for each value of r\n",
        "  \"\"\"\n",
        "  #########################################################################\n",
        "  # TODO compute drdt and disable the error\n",
        "  raise NotImplementedError(\"Finish the compute_drdt function\")\n",
        "  #########################################################################\n",
        "\n",
        "  # Calculate drdt\n",
        "  drdt = ...\n",
        "\n",
        "  return drdt\n",
        "\n",
        "\n",
        "# Define a vector of r values and the simulation parameters\n",
        "r = np.linspace(0, 1, 1000)\n",
        "pars = default_pars_single(I_ext=0.3, w=5)\n",
        "\n",
        "# Compute dr/dt\n",
        "drdt = compute_drdt(r, **pars)\n",
        "\n",
        "# Visualize\n",
        "plot_dr_r(r, drdt)"
      ],
      "execution_count": null,
      "outputs": []
    },
    {
      "cell_type": "markdown",
      "metadata": {
        "id": "hYzvC9T_O7Zg"
      },
      "source": [
        "### Coding Exercise 2.1.2: Numerical calculation of fixed points\n",
        "\n",
        "We will now find the fixed points numerically. To do so, we need to specify initial values ($r_{\\text{guess}}$) for the root-finding algorithm to start from. From the line $\\displaystyle{\\frac{dr_E}{dt}}$ plotted above in the last exercise, initial values can be chosen as a set of values close to where the line crosses zero on the y axis (real fixed point).\n",
        "\n",
        "The next cell defines three helper functions that we will use:\n",
        "\n",
        "- `my_fp_single(r_guess, **pars)` uses a root-finding algorithm to locate a fixed point near a given initial value\n",
        "- `check_fp_single(x_fp, **pars)` verifies that the values of $r_{\\rm fp}$ for which $\\displaystyle{\\frac{dr_E}{dt}} = 0$ are the true fixed points\n",
        "- `my_fp_finder(r_guess_vector, **pars)` accepts an array of initial values and finds the same number of fixed points, using the above two functions"
      ]
    },
    {
      "cell_type": "code",
      "metadata": {
        "cellView": "form",
        "id": "n7d0s0yaO5we"
      },
      "source": [
        "# @markdown *Execute this cell to enable the fixed point functions*\n",
        "\n",
        "def my_fp_single(r_guess, a, theta, w, I_ext, **other_pars):\n",
        "  \"\"\"\n",
        "  Calculate the fixed point through drE/dt=0\n",
        "\n",
        "  Args:\n",
        "    r_guess  : Initial value used for scipy.optimize function\n",
        "    a, theta, w, I_ext : simulation parameters\n",
        "\n",
        "  Returns:\n",
        "    x_fp    : value of fixed point\n",
        "  \"\"\"\n",
        "  # define the right hand of E dynamics\n",
        "  def my_WCr(x):\n",
        "    r = x\n",
        "    drdt = (-r + F(w * r + I_ext, a, theta))\n",
        "    y = np.array(drdt)\n",
        "\n",
        "    return y\n",
        "\n",
        "  x0 = np.array(r_guess)\n",
        "  x_fp = opt.root(my_WCr, x0).x.item()\n",
        "\n",
        "  return x_fp\n",
        "\n",
        "\n",
        "def check_fp_single(x_fp, a, theta, w, I_ext, mytol=1e-4, **other_pars):\n",
        "  \"\"\"\n",
        "   Verify |dr/dt| < mytol\n",
        "\n",
        "  Args:\n",
        "    fp      : value of fixed point\n",
        "    a, theta, w, I_ext: simulation parameters\n",
        "    mytol   : tolerance, default as 10^{-4}\n",
        "\n",
        "  Returns :\n",
        "    Whether it is a correct fixed point: True/False\n",
        "  \"\"\"\n",
        "  # calculate Equation(3)\n",
        "  y = x_fp - F(w * x_fp + I_ext, a, theta)\n",
        "\n",
        "  # Here we set tolerance as 10^{-4}\n",
        "  return np.abs(y) < mytol\n",
        "\n",
        "\n",
        "def my_fp_finder(pars, r_guess_vector, mytol=1e-4):\n",
        "  \"\"\"\n",
        "  Calculate the fixed point(s) through drE/dt=0\n",
        "\n",
        "  Args:\n",
        "    pars    : Parameter dictionary\n",
        "    r_guess_vector  : Initial values used for scipy.optimize function\n",
        "    mytol   : tolerance for checking fixed point, default as 10^{-4}\n",
        "\n",
        "  Returns:\n",
        "    x_fps   : values of fixed points\n",
        "\n",
        "  \"\"\"\n",
        "  x_fps = []\n",
        "  correct_fps = []\n",
        "  for r_guess in r_guess_vector:\n",
        "    x_fp = my_fp_single(r_guess, **pars)\n",
        "    if check_fp_single(x_fp, **pars, mytol=mytol):\n",
        "      x_fps.append(x_fp)\n",
        "\n",
        "  return x_fps\n",
        "\n",
        "help(my_fp_finder)"
      ],
      "execution_count": null,
      "outputs": []
    },
    {
      "cell_type": "code",
      "metadata": {
        "id": "dqngbKbYPOUc"
      },
      "source": [
        "# Set parameters\n",
        "r = np.linspace(0, 1, 1000)\n",
        "pars = default_pars_single(I_ext=0.3, w=5)\n",
        "\n",
        "# Compute dr/dt\n",
        "drdt = compute_drdt(r, **pars)\n",
        "\n",
        "#############################################################################\n",
        "# TODO for students:\n",
        "# Define initial values close to the intersections of drdt and y=0\n",
        "# (How many initial values? Hint: How many times do the two lines intersect?)\n",
        "# Calculate the fixed point with these initial values and plot them\n",
        "raise NotImplementedError('student_exercise: find fixed points numerically')\n",
        "#############################################################################\n",
        "\n",
        "# Initial guesses for fixed points\n",
        "r_guess_vector = [...]\n",
        "\n",
        "# Find fixed point numerically\n",
        "x_fps = my_fp_finder(pars, r_guess_vector)\n",
        "\n",
        "# Visualize\n",
        "plot_dr_r(r, drdt, x_fps)"
      ],
      "execution_count": null,
      "outputs": []
    },
    {
      "cell_type": "markdown",
      "metadata": {
        "id": "RBeUsKfnPYtU"
      },
      "source": [
        "### Interactive Demo 2.1: fixed points as a function of recurrent and external inputs.\n",
        "\n",
        "You can now explore how the previous plot changes when the recurrent coupling $w$ and the external input $I_{\\text{ext}}$ take different values. How does the number of fixed points change?"
      ]
    },
    {
      "cell_type": "code",
      "metadata": {
        "cellView": "form",
        "id": "jS3lnhimPUQ0"
      },
      "source": [
        "# @title\n",
        "\n",
        "# @markdown Make sure you execute this cell to enable the widget!\n",
        "\n",
        "\n",
        "def plot_intersection_single(w, I_ext):\n",
        "  # set your parameters\n",
        "  pars = default_pars_single(w=w, I_ext=I_ext)\n",
        "\n",
        "  # find fixed points\n",
        "  r_init_vector = [0, .4, .9]\n",
        "  x_fps = my_fp_finder(pars, r_init_vector)\n",
        "\n",
        "  # plot\n",
        "  r = np.linspace(0, 1., 1000)\n",
        "  #drdt = (-r + F(w * r + I_ext, pars['a'], pars['theta'])) / pars['tau']\n",
        "  drdt = compute_drdt(r, **pars)\n",
        "\n",
        "  plot_dr_r(r, drdt, x_fps)\n",
        "\n",
        "_ = widgets.interact(plot_intersection_single, w=(0.0, 10, 1),\n",
        "                     I_ext=(0, 1, 0.1))"
      ],
      "execution_count": null,
      "outputs": []
    },
    {
      "cell_type": "markdown",
      "metadata": {
        "id": "p-KHb1pqSDvn"
      },
      "source": [
        "## Section 2.2: Relationship between trajectories & fixed points\n",
        "\n",
        "Let's examine the relationship between the population activity over time and the fixed points.\n",
        "\n",
        "Here, let us investigate the dynamics of $r_E(t)$ starting with different initial values $r_E(0) \\equiv r_{\\text{init}}$. "
      ]
    },
    {
      "cell_type": "markdown",
      "metadata": {
        "id": "rtE4WHScSkTU"
      },
      "source": [
        "### Interactive Demo 2.2: dynamics as a function of the initial value\n",
        "\n",
        "Let's now set $r_{\\rm init}$ to a value of your choice in this demo. How does the solution change? What do you observe? How does that relate to the previous plot of $\\frac{dr_E}{dt}$?"
      ]
    },
    {
      "cell_type": "code",
      "metadata": {
        "cellView": "form",
        "id": "P40tsIj8Pz19"
      },
      "source": [
        "# @markdown Make sure you execute this cell to enable the widget!\n",
        "\n",
        "pars = default_pars_single(w=5.0, I_ext=0.3)\n",
        "\n",
        "def plot_single_diffEinit(r_init):\n",
        "  pars['r_init'] = r_init\n",
        "  r = simulate_single(pars)\n",
        "\n",
        "  plt.figure()\n",
        "  plt.plot(pars['range_t'], r, 'b', zorder=1)\n",
        "  plt.plot(0, r[0], 'bo', alpha=0.7, zorder=2)\n",
        "  plt.xlabel('t (ms)', fontsize=16)\n",
        "  plt.ylabel(r'$r(t)$', fontsize=16)\n",
        "  plt.ylim(0, 1.0)\n",
        "  plt.show()\n",
        "\n",
        "\n",
        "_ = widgets.interact(plot_single_diffEinit, r_init=(0, 1, 0.02))"
      ],
      "execution_count": null,
      "outputs": []
    },
    {
      "cell_type": "markdown",
      "metadata": {
        "id": "Njv-mBA4Sx-Y"
      },
      "source": [
        "We will plot the trajectories of $r(t)$ with $r_{\\text{init}} = 0.0, 0.1, 0.2,..., 0.9$."
      ]
    },
    {
      "cell_type": "code",
      "metadata": {
        "cellView": "form",
        "id": "KZUp7g3NSo11"
      },
      "source": [
        "# @markdown Execute this cell to see the trajectories!\n",
        "\n",
        "pars = default_pars_single(w=5.0, I_ext=0.3)\n",
        "\n",
        "plt.figure(figsize=(8, 5))\n",
        "for ie in range(10):\n",
        "  pars['r_init'] = 0.1 * ie  # set the initial value\n",
        "  r = simulate_single(pars)  # run the simulation\n",
        "\n",
        "  # plot the activity with given initial\n",
        "  plt.plot(pars['range_t'], r, 'b', alpha=0.1 + 0.1 * ie,\n",
        "           label=r'r$_{\\mathrm{init}}$=%.1f' % (0.1 * ie))\n",
        "\n",
        "plt.xlabel('t (ms)')\n",
        "plt.title('Two (three?) steady states')\n",
        "plt.ylabel(r'$r$(t)')\n",
        "plt.legend(loc=[1.01, -0.06], fontsize=14)\n",
        "plt.show()"
      ],
      "execution_count": null,
      "outputs": []
    },
    {
      "cell_type": "markdown",
      "metadata": {
        "id": "4z4ZUik8THjl"
      },
      "source": [
        "\n",
        "\n",
        "We have three fixed points but only two steady states with a finite basin of attraction.\n",
        "\n",
        "It turns out that the stability of the fixed points matters. If a fixed point is stable, a trajectory starting near that fixed point will stay close to that fixed point and converge to it (the steady state will equal the fixed point). If a fixed point is unstable, any trajectories starting close to it will diverge and go towards stable fixed points. In fact, the only way for a trajectory to reach a stable state at an unstable fixed point is if the initial value **exactly** equals the value of the fixed point.\n",
        "\n"
      ]
    },
    {
      "cell_type": "markdown",
      "metadata": {
        "id": "B1xxGt37UjVI"
      },
      "source": [
        "# Section 3: Wilson-Cowan model\n",
        "\n",
        "In the previous section, you became familiar with a neuronal network consisting of only an excitatory population. Here, we extend the approach we used to include both excitatory and inhibitory neuronal populations in our network. A simple, yet powerful model to study the dynamics of two interacting populations of excitatory and inhibitory neurons, is the so-called **Wilson-Cowan** rate model, which will is the main subject of this tutorial.\n",
        "\n",
        "The objectives of this section are to:\n",
        "\n",
        "- Write the **Wilson-Cowan** equations for the firing rate dynamics of a 2D system composed of an excitatory (E) and an inhibitory (I) population of neurons\n",
        "- Simulate the dynamics of the system, i.e., Wilson-Cowan model.\n",
        "- Visualize and inspect the behavior of the system using **phase plane analysis**, **vector fields**, and **nullclines**.\n",
        "- Find and plot the **fixed points** of the Wilson-Cowan model.\n",
        "- Learn how the Wilson-Cowan model can reach an oscillatory state.\n",
        "\n",
        "\\\\\n",
        "Reference paper:\n",
        "\n",
        "_[Wilson H and Cowan J (1972) Excitatory and inhibitory interactions in localized populations of model neurons. Biophysical Journal 12](https://doi.org/10.1016/S0006-3495(72)86068-5)_"
      ]
    },
    {
      "cell_type": "code",
      "metadata": {
        "id": "vfVV3E0bWjfP",
        "cellView": "form"
      },
      "source": [
        "# @title Load helper Functions\n",
        "\n",
        "def default_pars(**kwargs):\n",
        "  pars = {}\n",
        "\n",
        "  # Excitatory parameters\n",
        "  pars['tau_E'] = 1.     # Timescale of the E population [ms]\n",
        "  pars['a_E'] = 1.2      # Gain of the E population\n",
        "  pars['theta_E'] = 2.8  # Threshold of the E population\n",
        "\n",
        "  # Inhibitory parameters\n",
        "  pars['tau_I'] = 2.0    # Timescale of the I population [ms]\n",
        "  pars['a_I'] = 1.0      # Gain of the I population\n",
        "  pars['theta_I'] = 4.0  # Threshold of the I population\n",
        "\n",
        "  # Connection strength\n",
        "  pars['wEE'] = 9.   # E to E\n",
        "  pars['wEI'] = 4.   # I to E\n",
        "  pars['wIE'] = 13.  # E to I\n",
        "  pars['wII'] = 11.  # I to I\n",
        "\n",
        "  # External input\n",
        "  pars['I_ext_E'] = 0.\n",
        "  pars['I_ext_I'] = 0.\n",
        "\n",
        "  # simulation parameters\n",
        "  pars['T'] = 50.        # Total duration of simulation [ms]\n",
        "  pars['dt'] = .1        # Simulation time step [ms]\n",
        "  pars['rE_init'] = 0.2  # Initial value of E\n",
        "  pars['rI_init'] = 0.2  # Initial value of I\n",
        "\n",
        "  # External parameters if any\n",
        "  for k in kwargs:\n",
        "      pars[k] = kwargs[k]\n",
        "\n",
        "  # Vector of discretized time points [ms]\n",
        "  pars['range_t'] = np.arange(0, pars['T'], pars['dt'])\n",
        "\n",
        "  return pars\n",
        "\n",
        "\n",
        "def F(x, a, theta):\n",
        "  \"\"\"\n",
        "  Population activation function, F-I curve\n",
        "\n",
        "  Args:\n",
        "    x     : the population input\n",
        "    a     : the gain of the function\n",
        "    theta : the threshold of the function\n",
        "\n",
        "  Returns:\n",
        "    f     : the population activation response f(x) for input x\n",
        "  \"\"\"\n",
        "\n",
        "  # add the expression of f = F(x)\n",
        "  f = (1 + np.exp(-a * (x - theta)))**-1 - (1 + np.exp(a * theta))**-1\n",
        "\n",
        "  return f\n",
        "\n",
        "\n",
        "def dF(x, a, theta):\n",
        "  \"\"\"\n",
        "  Derivative of the population activation function.\n",
        "\n",
        "  Args:\n",
        "    x     : the population input\n",
        "    a     : the gain of the function\n",
        "    theta : the threshold of the function\n",
        "\n",
        "  Returns:\n",
        "    dFdx  :  Derivative of the population activation function.\n",
        "  \"\"\"\n",
        "\n",
        "  dFdx = a * np.exp(-a * (x - theta)) * (1 + np.exp(-a * (x - theta)))**-2\n",
        "\n",
        "  return dFdx\n",
        "\n",
        "def simulate_wc(tau_E, a_E, theta_E, tau_I, a_I, theta_I,\n",
        "                wEE, wEI, wIE, wII, I_ext_E, I_ext_I,\n",
        "                rE_init, rI_init, dt, range_t, **other_pars):\n",
        "  \"\"\"\n",
        "  Simulate the Wilson-Cowan equations\n",
        "\n",
        "  Args:\n",
        "    Parameters of the Wilson-Cowan model\n",
        "\n",
        "  Returns:\n",
        "    rE, rI (arrays) : Activity of excitatory and inhibitory populations\n",
        "  \"\"\"\n",
        "  # Initialize activity arrays\n",
        "  Lt = range_t.size\n",
        "  rE = np.append(rE_init, np.zeros(Lt - 1))\n",
        "  rI = np.append(rI_init, np.zeros(Lt - 1))\n",
        "  I_ext_E = I_ext_E * np.ones(Lt)\n",
        "  I_ext_I = I_ext_I * np.ones(Lt)\n",
        "\n",
        "  # Simulate the Wilson-Cowan equations\n",
        "  for k in range(Lt - 1):\n",
        "\n",
        "     # Calculate the derivative of the E population\n",
        "    drE = dt / tau_E * (-rE[k] + F(wEE * rE[k] - wEI * rI[k] + I_ext_E[k],\n",
        "                                   a_E, theta_E))\n",
        "\n",
        "    # Calculate the derivative of the I population\n",
        "    drI = dt / tau_I * (-rI[k] + F(wIE * rE[k] - wII * rI[k] + I_ext_I[k],\n",
        "                                   a_I, theta_I))\n",
        "\n",
        "    # Update using Euler's method\n",
        "    rE[k + 1] = rE[k] + drE\n",
        "    rI[k + 1] = rI[k] + drI\n",
        "\n",
        "  return rE, rI\n",
        "\n",
        "def get_eig_Jacobian(fp,\n",
        "                     tau_E, a_E, theta_E, wEE, wEI, I_ext_E,\n",
        "                     tau_I, a_I, theta_I, wIE, wII, I_ext_I, **other_pars):\n",
        "  \"\"\"Compute eigenvalues of the Wilson-Cowan Jacobian matrix at fixed point.\"\"\"\n",
        "  # Initialization\n",
        "  rE, rI = fp\n",
        "  J = np.zeros((2, 2))\n",
        "\n",
        "  ###########################################################################\n",
        "  # TODO for students: compute J and disable the error\n",
        "  # raise NotImplementedError(\"Student exercise: compute the Jacobian matrix\")\n",
        "  ###########################################################################\n",
        "  # Compute the four elements of the Jacobian matrix\n",
        "  J[0, 0] = (wEE*dF(wEE*rE - wEI*rI + I_ext_E, a_E, theta_E) - 1)/tau_E\n",
        "  J[0, 1] = -wEI*dF(wEE*rE - wEI*rI + I_ext_E, a_E, theta_E)/tau_E\n",
        "  J[1, 0] = (wIE * dF(wIE * rE - wII * rI + I_ext_I, a_I, theta_I)) / tau_I\n",
        "  J[1, 1] = (-1 - wII * dF(wIE * rE - wII * rI + I_ext_I, a_I, theta_I)) / tau_I\n",
        "\n",
        "  # Compute and return the eigenvalues\n",
        "  evals = np.linalg.eig(J)[0]\n",
        "  return evals\n"
      ],
      "execution_count": null,
      "outputs": []
    },
    {
      "cell_type": "markdown",
      "metadata": {
        "id": "o6QhgY5UYVTt"
      },
      "source": [
        "## Section 3.1: Introduction"
      ]
    },
    {
      "cell_type": "markdown",
      "metadata": {
        "id": "LlSaFQAdWOtA"
      },
      "source": [
        "Many of the rich dynamics recorded in the brain are generated by the interaction of excitatory and inhibitory subtype neurons. Here, we will model two coupled populations of E and I neurons (**Wilson-Cowan** model). We can write two coupled differential equations, each representing the dynamics of the excitatory or inhibitory population:\n",
        "\n",
        "\\begin{align}\n",
        "\\tau_E \\frac{dr_E}{dt} &= -r_E + F_E(w_{EE}r_E -w_{EI}r_I + I^{\\text{ext}}_E;a_E,\\theta_E)\\\\\n",
        "\\tau_I \\frac{dr_I}{dt} &= -r_I + F_I(w_{IE}r_E -w_{II}r_I + I^{\\text{ext}}_I;a_I,\\theta_I)    \\qquad (1)\n",
        "\\end{align}\n",
        "\n",
        "$r_E(t)$ represents the average activation (or firing rate) of the excitatory population at time $t$, and $r_I(t)$ the activation (or firing rate) of the inhibitory population. The parameters $\\tau_E$ and $\\tau_I$ control the timescales of the dynamics of each population. Connection strengths are given by: $w_{EE}$ (E $\\rightarrow$ E), $w_{EI}$ (I $\\rightarrow$ E), $w_{IE}$ (E $\\rightarrow$ I), and $w_{II}$ (I $\\rightarrow$ I). The terms $w_{EI}$ and $w_{IE}$ represent connections from inhibitory to excitatory population and vice versa, respectively. The transfer functions (or F-I curves) $F_E(x;a_E,\\theta_E)$ and $F_I(x;a_I,\\theta_I)$ can be different for the excitatory and the inhibitory populations.\n",
        "\n",
        "Note that this is a somehow simplified version of the original model: (a) it's already temporally coarse grained, and (b) we assume no absolute refractory period here."
      ]
    },
    {
      "cell_type": "markdown",
      "metadata": {
        "id": "GLUfHzKxf54D"
      },
      "source": [
        "## Section 3.2: Simulations"
      ]
    },
    {
      "cell_type": "markdown",
      "metadata": {
        "id": "yH8yjGhb7fuf"
      },
      "source": [
        "We will run a numerical simulation (implemented as a helper function) of our equations and visualize two simulations with similar initial points."
      ]
    },
    {
      "cell_type": "code",
      "metadata": {
        "id": "392Krj_6UmkX"
      },
      "source": [
        "pars = default_pars()\n",
        "\n",
        "# Simulate first trajectory\n",
        "rE1, rI1 = simulate_wc(**default_pars(rE_init=.32, rI_init=.15))\n",
        "\n",
        "# Simulate second trajectory\n",
        "rE2, rI2 = simulate_wc(**default_pars(rE_init=.33, rI_init=.15))\n",
        "\n",
        "# Visualize\n",
        "my_test_plot(pars['range_t'], rE1, rI1, rE2, rI2)"
      ],
      "execution_count": null,
      "outputs": []
    },
    {
      "cell_type": "markdown",
      "metadata": {
        "id": "9ojYJhVagNdx"
      },
      "source": [
        "The two plots above show the temporal evolution of excitatory ($r_E$, blue) and inhibitory ($r_I$, red) activity for two different sets of initial conditions."
      ]
    },
    {
      "cell_type": "markdown",
      "metadata": {
        "id": "DX3Wry0wgwYy"
      },
      "source": [
        "## Section 3.3: Phase plane analysis\n"
      ]
    },
    {
      "cell_type": "markdown",
      "metadata": {
        "id": "s_kGTHVk7ZrA"
      },
      "source": [
        "\n",
        "Just like we used a graphical method to study the dynamics of a 1-D system studied previously, here we will employ a graphical approach called **phase plane analysis** to study the dynamics of a 2-D system like the Wilson-Cowan model.\n",
        "\n",
        "So far, we have plotted the activities of the two populations as a function of time, i.e., in the `Activity-t` plane, either the $(t, r_E(t))$ plane or the $(t, r_I(t))$ one. Instead, we can plot the two activities $r_E(t)$ and $r_I(t)$ against each other at any time point $t$. This characterization in the `rI-rE` plane $(r_I(t), r_E(t))$ is called the **phase plane**. Each line in the phase plane indicates how both $r_E$ and $r_I$ evolve with time."
      ]
    },
    {
      "cell_type": "markdown",
      "metadata": {
        "id": "uKl03PN-hIMa"
      },
      "source": [
        "### Section 3.3.1: Nullclines of the Wilson-Cowan Equations\n",
        "\n",
        "An important concept in the phase plane analysis is the \"nullcline\" which is defined as the set of points in the phase plane where the activity of one population (but not necessarily the other) does not change.\n",
        "\n",
        "In other words, the $E$ and $I$ nullclines of Equation $(1)$ are defined as the points where $\\displaystyle{\\frac{dr_E}{dt}}=0$, for the excitatory nullcline, or $\\displaystyle\\frac{dr_I}{dt}=0$ for the inhibitory nullcline. That is:\n",
        "\n",
        "\\begin{align}\n",
        "-r_E + F_E(w_{EE}r_E -w_{EI}r_I + I^{\\text{ext}}_E;a_E,\\theta_E) &= 0  \\qquad (2)\\\\[1mm]\n",
        "-r_I + F_I(w_{IE}r_E -w_{II}r_I + I^{\\text{ext}}_I;a_I,\\theta_I) &= 0    \\qquad (3)\n",
        "\\end{align}"
      ]
    },
    {
      "cell_type": "markdown",
      "metadata": {
        "id": "6EQSbGbrhVb3"
      },
      "source": [
        "### Coding Exercise 3.3.1: Compute the nullclines of the Wilson-Cowan model\n",
        "\n",
        "In the next exercise, we will compute and plot the nullclines of the E and I population."
      ]
    },
    {
      "cell_type": "markdown",
      "metadata": {
        "id": "NZ5vXWDfhV9F"
      },
      "source": [
        "Along the nullcline of excitatory population Equation $2$, you can calculate the inhibitory activity by rewriting Equation $2$ into\n",
        "\n",
        "\\begin{align}\n",
        "r_I = \\frac{1}{w_{EI}}\\big{[}w_{EE}r_E - F_E^{-1}(r_E; a_E,\\theta_E) + I^{\\text{ext}}_E \\big{]}. \\qquad(4)\n",
        "\\end{align}\n",
        "\n",
        "where $F_E^{-1}(r_E; a_E,\\theta_E)$ is the inverse of the excitatory transfer function (defined below). Equation $4$ defines the $r_E$ nullcline.\n",
        "\n",
        "Note that, when computing the nullclines with Equations 4-5, we also need to calculate the inverse of the transfer functions. \\\\\n",
        "\n",
        "The inverse of the sigmoid shaped **f-I** function that we have been using is:\n",
        "\n",
        "$$F^{-1}(x; a, \\theta) = -\\frac{1}{a} \\ln \\left[ \\frac{1}{x + \\displaystyle \\frac{1}{1+\\text{e}^{a\\theta}}} - 1 \\right] + \\theta \\qquad (6)$$\n",
        "\n",
        "The first step is to implement the inverse transfer function:"
      ]
    },
    {
      "cell_type": "code",
      "metadata": {
        "id": "WPJtiDpbZrbs"
      },
      "source": [
        "def F_inv(x, a, theta):\n",
        "  \"\"\"\n",
        "  Args:\n",
        "    x         : the population input\n",
        "    a         : the gain of the function\n",
        "    theta     : the threshold of the function\n",
        "\n",
        "  Returns:\n",
        "    F_inverse : value of the inverse function\n",
        "  \"\"\"\n",
        "\n",
        "  #########################################################################\n",
        "  # TODO for students: compute F_inverse\n",
        "  raise NotImplementedError(\"Student exercise: compute the inverse of F(x)\")\n",
        "  # ########################################################################\n",
        "\n",
        "  # Calculate Finverse (ln(x) can be calculated as np.log(x))\n",
        "  F_inverse = ...\n",
        "\n",
        "  return F_inverse\n",
        "\n",
        "# Set parameters\n",
        "pars = default_pars()\n",
        "x = np.linspace(1e-6, 0.93, 100)\n",
        "\n",
        "# Get inverse and visualize\n",
        "plot_FI_inverse(x, a=1, theta=3)"
      ],
      "execution_count": null,
      "outputs": []
    },
    {
      "cell_type": "markdown",
      "metadata": {
        "id": "wRheuxDPh2hy"
      },
      "source": [
        "Now you can compute the nullclines, using Equations 4-5 (repeated here for ease of access):\n",
        "\n",
        "\\begin{align}\n",
        "r_I = \\frac{1}{w_{EI}}\\big{[}w_{EE}r_E - F_E^{-1}(r_E; a_E,\\theta_E) + I^{\\text{ext}}_E \\big{]}. \\qquad(4)\n",
        "\\end{align}\n",
        "\n",
        "\\begin{align}\n",
        "r_E = \\frac{1}{w_{IE}} \\big{[} w_{II}r_I + F_I^{-1}(r_I;a_I,\\theta_I) - I^{\\text{ext}}_I \\big{]}.  \\qquad (5)  \n",
        "\\end{align}"
      ]
    },
    {
      "cell_type": "code",
      "metadata": {
        "id": "r_XURdFGhCGV"
      },
      "source": [
        "def get_E_nullcline(rE, a_E, theta_E, wEE, wEI, I_ext_E, **other_pars):\n",
        "  \"\"\"\n",
        "  Solve for rI along the rE from drE/dt = 0.\n",
        "\n",
        "  Args:\n",
        "    rE    : response of excitatory population\n",
        "    a_E, theta_E, wEE, wEI, I_ext_E : Wilson-Cowan excitatory parameters\n",
        "    Other parameters are ignored\n",
        "\n",
        "  Returns:\n",
        "    rI    : values of inhibitory population along the nullcline on the rE\n",
        "  \"\"\"\n",
        "  #########################################################################\n",
        "  # TODO for students: compute rI for rE nullcline and disable the error\n",
        "  # raise NotImplementedError(\"Student exercise: compute the E nullcline\")\n",
        "  #########################################################################\n",
        "\n",
        "  # calculate rI for E nullclines on rI\n",
        "  rI = ...\n",
        "\n",
        "  return rI\n",
        "\n",
        "\n",
        "def get_I_nullcline(rI, a_I, theta_I, wIE, wII, I_ext_I, **other_pars):\n",
        "  \"\"\"\n",
        "  Solve for E along the rI from dI/dt = 0.\n",
        "\n",
        "  Args:\n",
        "    rI    : response of inhibitory population\n",
        "    a_I, theta_I, wIE, wII, I_ext_I : Wilson-Cowan inhibitory parameters\n",
        "    Other parameters are ignored\n",
        "\n",
        "  Returns:\n",
        "    rE    : values of the excitatory population along the nullcline on the rI\n",
        "  \"\"\"\n",
        "  #########################################################################\n",
        "  # TODO for students: compute rI for rE nullcline and disable the error\n",
        "  #raise NotImplementedError(\"Student exercise: compute the I nullcline\")\n",
        "  #########################################################################\n",
        "\n",
        "  # calculate rE for I nullclines on rI\n",
        "  rE = ...\n",
        "\n",
        "  return rE\n",
        "\n",
        "\n",
        "# Set parameters\n",
        "pars = default_pars()\n",
        "Exc_null_rE = np.linspace(-0.01, 0.96, 100)\n",
        "Inh_null_rI = np.linspace(-.01, 0.8, 100)\n",
        "\n",
        "# Compute nullclines\n",
        "Exc_null_rI = get_E_nullcline(Exc_null_rE, **pars)\n",
        "Inh_null_rE = get_I_nullcline(Inh_null_rI, **pars)\n",
        "\n",
        "# Visualize\n",
        "plot_nullclines(Exc_null_rE, Exc_null_rI, Inh_null_rE, Inh_null_rI)"
      ],
      "execution_count": null,
      "outputs": []
    },
    {
      "cell_type": "markdown",
      "metadata": {
        "id": "qCLhvkryjJKh"
      },
      "source": [
        "Note that by definition along the blue line in the phase-plane spanned by $r_E, r_I$, $\\displaystyle{\\frac{dr_E(t)}{dt}} = 0$, therefore, it is called a nullcline. \n",
        "\n",
        "That is, the blue nullcline divides the phase-plane spanned by $r_E, r_I$ into two regions: on one side of the nullcline $\\displaystyle{\\frac{dr_E(t)}{dt}} > 0$ and on the other side $\\displaystyle{\\frac{dr_E(t)}{dt}} < 0$.\n",
        "\n",
        "The same is true for the red line along which $\\displaystyle{\\frac{dr_I(t)}{dt}} = 0$. That is, the red nullcline divides the phase-plane spanned by $r_E, r_I$ into two regions: on one side of the nullcline $\\displaystyle{\\frac{dr_I(t)}{dt}} > 0$ and on the other side $\\displaystyle{\\frac{dr_I(t)}{dt}} < 0$.\n"
      ]
    },
    {
      "cell_type": "markdown",
      "metadata": {
        "id": "njTIMThKjWCs"
      },
      "source": [
        "### Section 3.3.2: Vector field\n",
        "\n",
        "How can the phase plane and the nullcline curves help us understand the behavior of the Wilson-Cowan model? \n",
        "\n",
        "The activities of the $E$ and $I$ populations $r_E(t)$ and $r_I(t)$ at each time point $t$ correspond to a single point in the phase plane, with coordinates $(r_E(t),r_I(t))$. Therefore, the time-dependent trajectory of the system can be described as a continuous curve in the phase plane, and the tangent vector to the trajectory, which is defined as the vector $\\bigg{(}\\displaystyle{\\frac{dr_E(t)}{dt},\\frac{dr_I(t)}{dt}}\\bigg{)}$, indicates the direction towards which the activity is evolving and how fast is the activity changing along each axis. In fact, for each point $(E,I)$ in the phase plane, we can compute the tangent vector $\\bigg{(}\\displaystyle{\\frac{dr_E}{dt},\\frac{dr_I}{dt}}\\bigg{)}$, which  indicates the behavior of the system when it traverses that point. \n",
        "\n",
        "The map of tangent vectors in the phase plane is called **vector field**. The behavior of any trajectory in the phase plane is determined by i) the initial conditions $(r_E(0),r_I(0))$, and ii) the vector field $\\bigg{(}\\displaystyle{\\frac{dr_E(t)}{dt},\\frac{dr_I(t)}{dt}}\\bigg{)}$.\n",
        "\n",
        "In general, the value of the vector field at a particular point in the phase plane is represented by an arrow. The orientation and the size of the arrow reflect the direction and the norm of the vector, respectively."
      ]
    },
    {
      "cell_type": "markdown",
      "metadata": {
        "id": "qEKtaflnklBK"
      },
      "source": [
        "### Coding Exercise 3.3.2: Compute and plot the vector field $\\displaystyle{\\Big{(}\\frac{dr_E}{dt}, \\frac{dr_I}{dt} \\Big{)}}$\n",
        "\n",
        "Note that\n",
        "\n",
        "\\begin{align}\n",
        "\\frac{dr_E}{dt} &= [-r_E + F_E(w_{EE}r_E -w_{EI}r_I + I^{\\text{ext}}_E;a_E,\\theta_E)]\\frac{1}{\\tau_E}\\\\\n",
        "\\frac{dr_I}{dt} &= [-r_I + F_I(w_{IE}r_E -w_{II}r_I + I^{\\text{ext}}_I;a_I,\\theta_I)]\\frac{1}{\\tau_I}    \n",
        "\\end{align}"
      ]
    },
    {
      "cell_type": "code",
      "metadata": {
        "id": "C4KKq-yNjHxE"
      },
      "source": [
        "def EIderivs(rE, rI,\n",
        "             tau_E, a_E, theta_E, wEE, wEI, I_ext_E,\n",
        "             tau_I, a_I, theta_I, wIE, wII, I_ext_I,\n",
        "             **other_pars):\n",
        "  \"\"\"Time derivatives for E/I variables (drE/dt, drI/dt).\"\"\"\n",
        "  ######################################################################\n",
        "  # TODO for students: compute drEdt and drIdt and disable the error\n",
        "  raise NotImplementedError(\"Student exercise: compute the vector field\")\n",
        "  ######################################################################\n",
        "\n",
        "  # Compute the derivative of rE\n",
        "  drEdt = ...\n",
        "\n",
        "  # Compute the derivative of rI\n",
        "  drIdt = ...\n",
        "\n",
        "\n",
        "  return drEdt, drIdt\n",
        "\n",
        "\n",
        "# Create vector field using EIderivs\n",
        "plot_complete_analysis(default_pars())"
      ],
      "execution_count": null,
      "outputs": []
    },
    {
      "cell_type": "markdown",
      "metadata": {
        "id": "2mGMt46alqEw"
      },
      "source": [
        "\n",
        "The last phase plane plot shows us that: \n",
        "- Trajectories follow the direction of the vector field.\n",
        "- Different trajectories eventually always reach one of two points depending on the initial conditions. \n",
        "- The two points where the trajectories converge are the intersection of the two nullcline curves. "
      ]
    },
    {
      "cell_type": "markdown",
      "metadata": {
        "id": "GmNrPoBkl-jT"
      },
      "source": [
        "### Think! 3.3.2.: Analyzing the vector field\n",
        "\n",
        "There are, in total, three intersection points, meaning that the system has three fixed points.\n",
        "\n",
        "1. One of the fixed points (the one in the middle) is never the final state of a trajectory. Why is that? \n",
        "2. Why the arrows tend to get smaller as they approach the fixed points?"
      ]
    },
    {
      "cell_type": "markdown",
      "metadata": {
        "id": "z8Qs2Mcm7WIz"
      },
      "source": [
        ""
      ]
    },
    {
      "cell_type": "markdown",
      "metadata": {
        "id": "1D_VpqzSnSbe"
      },
      "source": [
        "## Section 3.4: Fixed points\n"
      ]
    },
    {
      "cell_type": "markdown",
      "metadata": {
        "id": "OeT_9pKrpomB"
      },
      "source": [
        "### Section 3.4.1: Finding fixed points\n",
        "\n",
        "From the above nullclines, we notice that the system features three fixed points with the parameters we used. To find their coordinates, we need to choose proper initial value to give to the `opt.root` function inside of the function `my_fp` we just defined, since the algorithm can only find fixed points in the vicinity of the initial value. "
      ]
    },
    {
      "cell_type": "markdown",
      "metadata": {
        "id": "3MheOEFnoieA"
      },
      "source": [
        "#### Coding Exercise 3.4.1: Find the fixed points of the Wilson-Cowan model\n",
        "\n",
        "In this exercise, you will use the function `my_fp` to find each of the fixed points by varying the initial values. Note that you can choose the values near the intersections of the nullclines as the initial values to calculate the fixed points."
      ]
    },
    {
      "cell_type": "code",
      "metadata": {
        "cellView": "form",
        "id": "btUA_AGklfTk"
      },
      "source": [
        "# @markdown *Execute the cell to define `my_fp` and `check_fp`*\n",
        "\n",
        "def my_fp(pars, rE_init, rI_init):\n",
        "  \"\"\"\n",
        "  Use opt.root function to solve Equations (2)-(3) from initial values\n",
        "  \"\"\"\n",
        "\n",
        "  tau_E, a_E, theta_E = pars['tau_E'], pars['a_E'], pars['theta_E']\n",
        "  tau_I, a_I, theta_I = pars['tau_I'], pars['a_I'], pars['theta_I']\n",
        "  wEE, wEI = pars['wEE'], pars['wEI']\n",
        "  wIE, wII = pars['wIE'], pars['wII']\n",
        "  I_ext_E, I_ext_I = pars['I_ext_E'], pars['I_ext_I']\n",
        "\n",
        "  # define the right hand of wilson-cowan equations\n",
        "  def my_WCr(x):\n",
        "\n",
        "    rE, rI = x\n",
        "    drEdt = (-rE + F(wEE * rE - wEI * rI + I_ext_E, a_E, theta_E)) / tau_E\n",
        "    drIdt = (-rI + F(wIE * rE - wII * rI + I_ext_I, a_I, theta_I)) / tau_I\n",
        "    y = np.array([drEdt, drIdt])\n",
        "\n",
        "    return y\n",
        "\n",
        "  x0 = np.array([rE_init, rI_init])\n",
        "  x_fp = opt.root(my_WCr, x0).x\n",
        "\n",
        "  return x_fp\n",
        "\n",
        "\n",
        "def check_fp(pars, x_fp, mytol=1e-6):\n",
        "  \"\"\"\n",
        "  Verify (drE/dt)^2 + (drI/dt)^2< mytol\n",
        "\n",
        "  Args:\n",
        "    pars    : Parameter dictionary\n",
        "    fp      : value of fixed point\n",
        "    mytol   : tolerance, default as 10^{-6}\n",
        "\n",
        "  Returns :\n",
        "    Whether it is a correct fixed point: True/False\n",
        "  \"\"\"\n",
        "\n",
        "  drEdt, drIdt = EIderivs(x_fp[0], x_fp[1], **pars)\n",
        "\n",
        "  return drEdt**2 + drIdt**2 < mytol\n",
        "\n",
        "help(my_fp)"
      ],
      "execution_count": null,
      "outputs": []
    },
    {
      "cell_type": "code",
      "metadata": {
        "id": "UDluxO41o45E"
      },
      "source": [
        "pars = default_pars()\n",
        "\n",
        "######################################################################\n",
        "# TODO: Provide initial values to calculate the fixed points\n",
        "# Check if x_fp's are the correct with the function check_fp(x_fp)\n",
        "# Hint: vary different initial values to find the correct fixed points\n",
        "#raise NotImplementedError('student exercise: find fixed points')\n",
        "######################################################################\n",
        "\n",
        "my_plot_nullcline(pars)\n",
        "\n",
        "# Find the first fixed point\n",
        "x_fp_1 = my_fp(pars, ..., ...)\n",
        "\n",
        "if check_fp(pars, x_fp_1):\n",
        "  plot_fp(x_fp_1)\n",
        "\n",
        "# Find the second fixed point\n",
        "x_fp_2 = my_fp(pars, ..., ...)\n",
        "\n",
        "if check_fp(pars, x_fp_2):\n",
        "  plot_fp(x_fp_2)\n",
        "\n",
        "# Find the third fixed point\n",
        "x_fp_3 = my_fp(pars, ..., ...)\n",
        "\n",
        "if check_fp(pars, x_fp_3):\n",
        "  plot_fp(x_fp_3)"
      ],
      "execution_count": null,
      "outputs": []
    },
    {
      "cell_type": "markdown",
      "metadata": {
        "id": "bzK0vmz3phQz"
      },
      "source": [
        "### *Section 3.4.2: Stability of a fixed point and eigenvalues of the Jacobian Matrix\n"
      ]
    },
    {
      "cell_type": "markdown",
      "metadata": {
        "id": "RbEWIuOUp6k5"
      },
      "source": [
        "First, let's first rewrite the system $1$ as:\n",
        "\n",
        "\\begin{align}\n",
        "&\\frac{dr_E}{dt} = G_E(r_E,r_I)\\\\[0.5mm]\n",
        "&\\frac{dr_I}{dt} = G_I(r_E,r_I)\n",
        "\\end{align}\n",
        "where\n",
        "\n",
        "\\begin{align}\n",
        "&G_E(r_E,r_I) = \\frac{1}{\\tau_E} [-r_E + F_E(w_{EE}r_E -w_{EI}r_I + I^{\\text{ext}}_E;a,\\theta)]\\\\[1mm]\n",
        "&G_I(r_E,r_I) = \\frac{1}{\\tau_I} [-r_I + F_I(w_{IE}r_E -w_{II}r_I + I^{\\text{ext}}_I;a,\\theta)]\n",
        "\\end{align}\n",
        "\n",
        "By definition, $\\displaystyle\\frac{dr_E}{dt}=0$ and $\\displaystyle\\frac{dr_I}{dt}=0$ at each fixed point. Therefore, if the initial state is exactly at the fixed point, the state of the system will not change as time evolves. \n",
        "\n",
        "However, if the initial state deviates slightly from the fixed point, there are two possibilities\n",
        "the trajectory will be attracted back to the \n",
        "\n",
        "1.   The trajectory will be attracted back to the fixed point\n",
        "2.   The trajectory will diverge from the fixed point. \n",
        "\n",
        "These two possibilities define the type of fixed point, i.e., stable or unstable. Similar to the 1D system studied in the previous section, the stability of a fixed point $(r_E^*, r_I^*)$ can be determined by linearizing the dynamics of the system (can you figure out how?). The linearization will yield a matrix of first-order derivatives called the Jacobian matrix:\n",
        "\n",
        " \\begin{equation}\n",
        "   J=\n",
        "  \\left[ {\\begin{array}{cc}\n",
        "   \\displaystyle{\\frac{\\partial}{\\partial r_E}}G_E(r_E^*, r_I^*) & \\displaystyle{\\frac{\\partial}{\\partial r_I}}G_E(r_E^*, r_I^*)\\\\[1mm]\n",
        "   \\displaystyle\\frac{\\partial}{\\partial r_E} G_I(r_E^*, r_I^*) & \\displaystyle\\frac{\\partial}{\\partial r_I}G_I(r_E^*, r_I^*) \\\\\n",
        "  \\end{array} } \\right] \\quad (7)\n",
        "\\end{equation}\n",
        "\n",
        "\\\\\n",
        "\n",
        "The eigenvalues of the Jacobian matrix calculated at the fixed point will determine whether it is a stable or unstable fixed point.\n",
        "\n",
        "\\\\\n",
        "\n",
        "We can now compute the derivatives needed to build the Jacobian matrix. Using the chain and product rules the derivatives for the excitatory population are given by:\n",
        "\n",
        "\\\\\n",
        "\n",
        "\\begin{align}\n",
        "&\\frac{\\partial}{\\partial r_E} G_E(r_E^*, r_I^*) = \\frac{1}{\\tau_E} [-1 + w_{EE} F_E'(w_{EE}r_E^* -w_{EI}r_I^* +  I^{\\text{ext}}_E;\\alpha_E, \\theta_E)] \\\\[1mm]\n",
        "&\\frac{\\partial}{\\partial r_I} G_E(r_E^*, r_I^*)= \\frac{1}{\\tau_E} [-w_{EI} F_E'(w_{EE}r_E^* -w_{EI}r_I^* +  I^{\\text{ext}}_E;\\alpha_E, \\theta_E)]\n",
        "\\end{align}\n",
        "\n",
        "\\\\\n",
        "\n",
        "The same applies to the inhibitory population. "
      ]
    },
    {
      "cell_type": "markdown",
      "metadata": {
        "id": "ObLLIwZVqPZA"
      },
      "source": [
        "\n",
        "#### Coding Exercise 3.4.2: Compute the Jacobian Matrix for the Wilson-Cowan model\n",
        "\n",
        "Here, you can use `dF(x,a,theta)` defined in the `Helper functions` to calculate the derivative of the F-I curve."
      ]
    },
    {
      "cell_type": "code",
      "metadata": {
        "id": "xPFXzk0JpRvd"
      },
      "source": [
        "def get_eig_Jacobian(fp,\n",
        "                     tau_E, a_E, theta_E, wEE, wEI, I_ext_E,\n",
        "                     tau_I, a_I, theta_I, wIE, wII, I_ext_I, **other_pars):\n",
        "  \"\"\"Compute eigenvalues of the Wilson-Cowan Jacobian matrix at fixed point.\"\"\"\n",
        "  # Initialization\n",
        "  rE, rI = fp\n",
        "  J = np.zeros((2, 2))\n",
        "\n",
        "  ###########################################################################\n",
        "  # TODO for students: compute J and disable the error\n",
        "  # raise NotImplementedError(\"Student exercise: compute the Jacobian matrix\")\n",
        "  ###########################################################################\n",
        "  # Compute the four elements of the Jacobian matrix\n",
        "  J[0, 0] = ...\n",
        "  J[0, 1] = ...\n",
        "  J[1, 0] = ...\n",
        "  J[1, 1] = ...\n",
        "\n",
        "  # Compute and return the eigenvalues\n",
        "  evals = np.linalg.eig(J)[0]\n",
        "  return evals\n",
        "\n",
        "\n",
        "# Compute eigenvalues of Jacobian\n",
        "eig_1 = get_eig_Jacobian(x_fp_1, **pars)\n",
        "eig_2 = get_eig_Jacobian(x_fp_2, **pars)\n",
        "eig_3 = get_eig_Jacobian(x_fp_3, **pars)\n",
        "\n",
        "print(eig_1, 'Stable point')\n",
        "print(eig_2, 'Unstable point')\n",
        "print(eig_3, 'Stable point')"
      ],
      "execution_count": null,
      "outputs": []
    },
    {
      "cell_type": "markdown",
      "metadata": {
        "id": "VQhYGHnbrv3E"
      },
      "source": [
        "As is evident, the stable fixed points are characterized by eigenvalues with a negative real part, while the unstable point is characterized by at least one positive eigenvalue. It's a saddle point in our case, since it features both positive and negative eigenvalues."
      ]
    },
    {
      "cell_type": "markdown",
      "metadata": {
        "id": "YQpTZTfBsazk"
      },
      "source": [
        "### Section 3.4.3: Effect of wEE on the nullclines and the eigenvalues\n",
        "\n",
        "The sign of the eigenvalues is determined by the connectivity (interaction) between excitatory and inhibitory populations. \n",
        "\n",
        "Below we investigate the effect of $w_{EE}$ on the nullclines and the eigenvalues of the dynamical system. "
      ]
    },
    {
      "cell_type": "markdown",
      "metadata": {
        "id": "fuHz-MFas3EE"
      },
      "source": [
        "#### Interactive Demo 3.4.3: Nullclines position in the phase plane changes with parameter values\n",
        "\n",
        "How do the nullclines move for different values of the parameter $w_{EE}$? What does this mean for fixed points and system activity?"
      ]
    },
    {
      "cell_type": "code",
      "metadata": {
        "cellView": "form",
        "id": "HtL23UlBrjh_"
      },
      "source": [
        "# @title\n",
        "\n",
        "# @markdown Make sure you execute this cell to enable the widget!\n",
        "\n",
        "\n",
        "def plot_nullcline_diffwEE(wEE):\n",
        "  \"\"\"\n",
        "    plot nullclines for different values of wEE\n",
        "  \"\"\"\n",
        "\n",
        "  pars = default_pars(wEE=wEE)\n",
        "\n",
        "  # plot the E, I nullclines\n",
        "  Exc_null_rE = np.linspace(-0.01, .96, 100)\n",
        "  Exc_null_rI = get_E_nullcline(Exc_null_rE, **pars)\n",
        "\n",
        "  Inh_null_rI = np.linspace(-.01, .8, 100)\n",
        "  Inh_null_rE = get_I_nullcline(Inh_null_rI, **pars)\n",
        "\n",
        "  plt.figure(figsize=(12, 5.5))\n",
        "  plt.subplot(121)\n",
        "  plt.plot(Exc_null_rE, Exc_null_rI, 'b', label='E nullcline')\n",
        "  plt.plot(Inh_null_rE, Inh_null_rI, 'r', label='I nullcline')\n",
        "  plt.xlabel(r'$r_E$')\n",
        "  plt.ylabel(r'$r_I$')\n",
        "  plt.legend(loc='best')\n",
        "\n",
        "  plt.subplot(222)\n",
        "  pars['rE_init'], pars['rI_init'] = 0.2, 0.2\n",
        "  rE, rI = simulate_wc(**pars)\n",
        "  plt.plot(pars['range_t'], rE, 'b', label='E population', clip_on=False)\n",
        "  plt.plot(pars['range_t'], rI, 'r', label='I population', clip_on=False)\n",
        "  plt.ylabel('Activity')\n",
        "  plt.legend(loc='best')\n",
        "  plt.ylim(-0.05, 1.05)\n",
        "  plt.title('E/I activity\\nfor different initial conditions',\n",
        "            fontweight='bold')\n",
        "\n",
        "  plt.subplot(224)\n",
        "  pars['rE_init'], pars['rI_init'] = 0.4, 0.1\n",
        "  rE, rI = simulate_wc(**pars)\n",
        "  plt.plot(pars['range_t'], rE, 'b', label='E population', clip_on=False)\n",
        "  plt.plot(pars['range_t'], rI, 'r', label='I population', clip_on=False)\n",
        "  plt.xlabel('t (ms)')\n",
        "  plt.ylabel('Activity')\n",
        "  plt.legend(loc='best')\n",
        "  plt.ylim(-0.05, 1.05)\n",
        "\n",
        "  plt.tight_layout()\n",
        "  plt.show()\n",
        "\n",
        "\n",
        "_ = widgets.interact(plot_nullcline_diffwEE, wEE=(6., 10., .01))"
      ],
      "execution_count": null,
      "outputs": []
    },
    {
      "cell_type": "markdown",
      "metadata": {
        "id": "6sOZM1wdtrHa"
      },
      "source": [
        "\n",
        "We could also investigate the effect of different $w_{EI}$, $w_{IE}$, $w_{II}$, $\\tau_{E}$, $\\tau_{I}$, and $I_{E}^{\\text{ext}}$ on the stability of fixed points. In addition, we can also consider the perturbation of the parameters of the gain curve $F(\\cdot)$."
      ]
    },
    {
      "cell_type": "markdown",
      "metadata": {
        "id": "-CTTU-kJy4F-"
      },
      "source": [
        "## Section 3.5: Limit cycle - oscillations"
      ]
    },
    {
      "cell_type": "markdown",
      "metadata": {
        "id": "feYwyhcjt0Ky"
      },
      "source": [
        "\n",
        "For some values of interaction terms ($w_{EE}, w_{IE}, w_{EI}, w_{II}$), the eigenvalues can become complex. When at least one pair of eigenvalues is complex, oscillations arise. \n",
        "The stability of oscillations is determined by the real part of the eigenvalues. The size of the complex part determines the frequency of oscillations. \n",
        "\n",
        "For instance, if we use a different set of parameters, $w_{EE}=6.4$, $w_{EI}=4.8$, $w_{IE}=6.$, $w_{II}=1.2$, and $I_{E}^{\\text{ext}}=0.8$, then we shall observe that the E and I population activity start to oscillate! Please execute the cell below to check the oscillatory behavior. "
      ]
    },
    {
      "cell_type": "code",
      "metadata": {
        "cellView": "form",
        "id": "5uEr-Bj_uN3v"
      },
      "source": [
        "# @title\n",
        "\n",
        "# @markdown Make sure you execute this cell to see the oscillations!\n",
        "\n",
        "pars = default_pars(T=100.)\n",
        "pars['wEE'], pars['wEI'] = 6.4, 4.8\n",
        "pars['wIE'], pars['wII'] = 6.0, 1.2\n",
        "pars['I_ext_E'] = 0.8\n",
        "pars['rE_init'], pars['rI_init'] = 0.25, 0.25\n",
        "\n",
        "rE, rI = simulate_wc(**pars)\n",
        "plt.figure(figsize=(8, 5.5))\n",
        "plt.plot(pars['range_t'], rE, 'b', label=r'$r_E$')\n",
        "plt.plot(pars['range_t'], rI, 'r', label=r'$r_I$')\n",
        "plt.xlabel('t (ms)')\n",
        "plt.ylabel('Activity')\n",
        "plt.legend(loc='best')\n",
        "plt.show()"
      ],
      "execution_count": null,
      "outputs": []
    },
    {
      "cell_type": "markdown",
      "metadata": {
        "id": "cLh1nYVRuKNr"
      },
      "source": [
        "We can also understand the oscillations of the population behavior using the phase plane. By plotting a set of trajectories with different initial states, we can see that these trajectories will move in a circle instead of converging to a fixed point. This circle is called \"limit cycle\" and shows the periodic oscillations of the $E$ and $I$ population behavior under some conditions.\n",
        "\n",
        "Let's plot the phase plane using the previously defined functions."
      ]
    },
    {
      "cell_type": "code",
      "metadata": {
        "id": "JAOqSc2YudCG",
        "cellView": "form"
      },
      "source": [
        "# @markdown Execute to visualize phase plane\n",
        "\n",
        "pars = default_pars(T=100.)\n",
        "pars['wEE'], pars['wEI'] = 6.4, 4.8\n",
        "pars['wIE'], pars['wII'] = 6.0, 1.2\n",
        "pars['I_ext_E'] = 0.8\n",
        "\n",
        "\n",
        "plt.figure(figsize=(7, 5.5))\n",
        "my_plot_nullcline(pars)\n",
        "\n",
        "# Find the correct fixed point\n",
        "x_fp_1 = my_fp(pars, 0.8, 0.8)\n",
        "if check_fp(pars, x_fp_1):\n",
        "  plot_fp(x_fp_1, position=(0, 0), rotation=40)\n",
        "\n",
        "my_plot_trajectories(pars, 0.2, 3,\n",
        "                      'Sample trajectories \\nwith different initial values')\n",
        "\n",
        "my_plot_vector(pars)\n",
        "\n",
        "plt.legend(loc=[1.01, 0.7])\n",
        "plt.xlim(-0.05, 1.01)\n",
        "plt.ylim(-0.05, 0.65)\n",
        "plt.show()\n",
        "\n",
        "eig_1 = get_eig_Jacobian(x_fp_1, **pars)\n",
        "print(\"Eigenvalues of the fixed point:\", eig_1)"
      ],
      "execution_count": null,
      "outputs": []
    },
    {
      "cell_type": "markdown",
      "metadata": {
        "id": "Y0eRi7TZtimi"
      },
      "source": [
        "### Interactive Demo 3.5: Limit cycle, oscillations, and a bifurcation\n",
        "\n",
        "From the above examples, the change of model parameters changes the shape of the nullclines and, accordingly, the behavior of the $E$ and $I$ populations from steady fixed points to oscillations. However, the shape of the nullclines is unable to fully determine the behavior of the network. The vector field also matters. To demonstrate this, here, we will investigate the effect of time constants on the population behavior. By changing the inhibitory time constant $\\tau_I$, the nullclines do not change, but the network behavior changes substantially from steady state to oscillations with different frequencies. \n",
        "\n",
        "A you know, such a dramatic change in the system behavior is referred to as a **bifurcation**. What kind of bifurcation are we dealing with here? \n",
        "\n",
        "\\\\\n",
        "Please execute the code below to check this out."
      ]
    },
    {
      "cell_type": "code",
      "metadata": {
        "id": "YIB5CmwMs6fh"
      },
      "source": [
        "# @title\n",
        "\n",
        "# @markdown Make sure you execute this cell to enable the widget!\n",
        "\n",
        "\n",
        "def time_constant_effect(tau_i=0.5):\n",
        "\n",
        "  pars = default_pars(T=100., dt=.01)\n",
        "  pars['wEE'], pars['wEI'] = 6.4, 4.8\n",
        "  pars['wIE'], pars['wII'] = 6.0, 1.2\n",
        "  pars['I_ext_E'] = 0.8\n",
        "\n",
        "  pars['tau_I'] = tau_i\n",
        "\n",
        "  Exc_null_rE = np.linspace(0.0, .9, 100)\n",
        "  Inh_null_rI = np.linspace(0.0, .6, 100)\n",
        "\n",
        "  Exc_null_rI = get_E_nullcline(Exc_null_rE, **pars)\n",
        "  Inh_null_rE = get_I_nullcline(Inh_null_rI, **pars)\n",
        "\n",
        "  plt.figure(figsize=(12.5, 5.5))\n",
        "\n",
        "  plt.subplot(121)  # nullclines/vector field\n",
        "  plt.plot(Exc_null_rE, Exc_null_rI, 'b', label='E nullcline', zorder=2)\n",
        "  plt.plot(Inh_null_rE, Inh_null_rI, 'r', label='I nullcline', zorder=2)\n",
        "  plt.xlabel(r'$r_E$')\n",
        "  plt.ylabel(r'$r_I$')\n",
        "\n",
        "  # fixed point\n",
        "  x_fp_1 = my_fp(pars, 0.5, 0.5)\n",
        "  plt.plot(x_fp_1[0], x_fp_1[1], 'ko', zorder=2)\n",
        "\n",
        "  eig_1 = get_eig_Jacobian(x_fp_1, **pars)\n",
        "\n",
        "  # trajectories\n",
        "  for ie in range(5):\n",
        "    for ii in range(5):\n",
        "      pars['rE_init'], pars['rI_init'] = 0.1 * ie, 0.1 * ii\n",
        "      rE_tj, rI_tj = simulate_wc(**pars)\n",
        "      plt.plot(rE_tj, rI_tj, 'k', alpha=0.3, zorder=1)\n",
        "\n",
        "  \n",
        "  # vector field\n",
        "  EI_grid_E = np.linspace(0., 1.0, 20)\n",
        "  EI_grid_I = np.linspace(0., 0.6, 20)\n",
        "  rE, rI = np.meshgrid(EI_grid_E, EI_grid_I)\n",
        "  drEdt, drIdt = EIderivs(rE, rI, **pars)\n",
        "  n_skip = 2\n",
        "  plt.quiver(rE[::n_skip, ::n_skip], rI[::n_skip, ::n_skip],\n",
        "              drEdt[::n_skip, ::n_skip], drIdt[::n_skip, ::n_skip],\n",
        "              angles='xy', scale_units='xy', scale=10, facecolor='c')\n",
        "  plt.title(r'$\\tau_I=$'+'%.2f ms' % tau_i)\n",
        "\n",
        "  plt.subplot(122)  # sample E/I trajectories\n",
        "  pars['rE_init'], pars['rI_init'] = 0.25, 0.25\n",
        "  rE, rI = simulate_wc(**pars)\n",
        "  plt.plot(pars['range_t'], rE, 'b', label=r'$r_E$')\n",
        "  plt.plot(pars['range_t'], rI, 'r', label=r'$r_I$')\n",
        "  plt.xlabel('t (ms)')\n",
        "  plt.ylabel('Activity')\n",
        "  plt.title(r'$\\tau_I=$'+'%.2f ms' % tau_i)\n",
        "  plt.legend(loc='best')\n",
        "  plt.tight_layout()\n",
        "  plt.show()\n",
        "  eig_1 = get_eig_Jacobian(x_fp_1, **pars)\n",
        "\n",
        "  print(\"Eigenvalues of the fixed point:\", eig_1)\n",
        "\n",
        "_ = widgets.interact(time_constant_effect, tau_i=(0.2, 3, .01))\n"
      ],
      "execution_count": null,
      "outputs": []
    },
    {
      "cell_type": "markdown",
      "metadata": {
        "id": "XSjCJEZWvNCS"
      },
      "source": [
        "Both $\\tau_E$ and $\\tau_I$ feature in the Jacobian of the two population network (eq 7). So here it seems that just by increasing $\\tau_I$ the eigenvalue corresponding to the fixed point changes (how?).\n"
      ]
    },
    {
      "cell_type": "markdown",
      "metadata": {
        "id": "A465je42y1RM"
      },
      "source": [
        "---\n",
        "## Section 3.6*: Fixed points and working memory"
      ]
    },
    {
      "cell_type": "markdown",
      "metadata": {
        "id": "DLm5ixq1zBnB"
      },
      "source": [
        "The input into the neurons measured in vivo is often noisy (what is the source of noise?). Here, the noisy synaptic input current is modeled as an Ornstein-Uhlenbeck (OU)process, which has been discussed several times in the previous tutorials.\n"
      ]
    },
    {
      "cell_type": "code",
      "metadata": {
        "cellView": "form",
        "id": "1T7-ghWDvNoB"
      },
      "source": [
        "# @markdown Make sure you execute this cell to enable the function my_OU and plot the input current!\n",
        "\n",
        "\n",
        "def my_OU(pars, sig, myseed=False):\n",
        "  \"\"\"\n",
        "  Expects:\n",
        "  pars       : parameter dictionary\n",
        "  sig        : noise amplitute\n",
        "  myseed     : random seed. int or boolean\n",
        "\n",
        "  Returns:\n",
        "  I          : Ornstein-Uhlenbeck input current\n",
        "  \"\"\"\n",
        "\n",
        "  # Retrieve simulation parameters\n",
        "  dt, range_t = pars['dt'], pars['range_t']\n",
        "  Lt = range_t.size\n",
        "  tau_ou = pars['tau_ou']  # [ms]\n",
        "\n",
        "  # set random seed\n",
        "  if myseed:\n",
        "      np.random.seed(seed=myseed)\n",
        "  else:\n",
        "      np.random.seed()\n",
        "\n",
        "  # Initialize\n",
        "  noise = np.random.randn(Lt)\n",
        "  I_ou = np.zeros(Lt)\n",
        "  I_ou[0] = noise[0] * sig\n",
        "\n",
        "  # generate OU\n",
        "  for it in range(Lt-1):\n",
        "      I_ou[it+1] = (I_ou[it]\n",
        "                    + dt / tau_ou * (0. - I_ou[it])\n",
        "                    + np.sqrt(2 * dt / tau_ou) * sig * noise[it + 1])\n",
        "  return I_ou\n",
        "\n",
        "\n",
        "pars = default_pars(T=50)\n",
        "pars['tau_ou'] = 1.  # [ms]\n",
        "sig_ou = 0.1\n",
        "I_ou = my_OU(pars, sig=sig_ou, myseed=2020)\n",
        "plt.figure(figsize=(8, 5.5))\n",
        "plt.plot(pars['range_t'], I_ou, 'b')\n",
        "plt.xlabel('Time (ms)')\n",
        "plt.ylabel(r'$I_{\\mathrm{OU}}$')\n",
        "plt.show()"
      ],
      "execution_count": null,
      "outputs": []
    },
    {
      "cell_type": "markdown",
      "metadata": {
        "id": "4XJdSqedzd7P"
      },
      "source": [
        "\n",
        "\n",
        "With the default parameters, the system fluctuates around a resting state with the noisy input.\n"
      ]
    },
    {
      "cell_type": "code",
      "metadata": {
        "cellView": "form",
        "id": "lolDtOFKzGMq"
      },
      "source": [
        "# @markdown Execute this cell to plot activity with noisy input current\n",
        "pars = default_pars(T=100)\n",
        "pars['tau_ou'] = 1.  # [ms]\n",
        "sig_ou = 0.1\n",
        "pars['I_ext_E'] = my_OU(pars, sig=sig_ou, myseed=20201)\n",
        "pars['I_ext_I'] = my_OU(pars, sig=sig_ou, myseed=20202)\n",
        "\n",
        "pars['rE_init'], pars['rI_init'] = 0.1, 0.1\n",
        "rE, rI = simulate_wc(**pars)\n",
        "\n",
        "plt.figure(figsize=(8, 5.5))\n",
        "ax = plt.subplot(111)\n",
        "ax.plot(pars['range_t'], rE, 'b', label='E population')\n",
        "ax.plot(pars['range_t'], rI, 'r', label='I population')\n",
        "ax.set_xlabel('t (ms)')\n",
        "ax.set_ylabel('Activity')\n",
        "ax.legend(loc='best')\n",
        "plt.show()"
      ],
      "execution_count": null,
      "outputs": []
    },
    {
      "cell_type": "markdown",
      "metadata": {
        "id": "fvsSOJMTzklf"
      },
      "source": [
        "### Interactive Demo 3.6: Short pulse induced persistent activity\n",
        "Then, let's use a brief 10-ms positive current to the E population when the system is at its equilibrium. When this amplitude (SE below) is sufficiently large, a persistent activity is produced that outlasts the transient input. What is the firing rate of the persistent activity, and what is the critical input strength? Try to understand the phenomena from the above phase-plane analysis."
      ]
    },
    {
      "cell_type": "code",
      "metadata": {
        "cellView": "form",
        "id": "11wVF6LzzgzF"
      },
      "source": [
        "# @title\n",
        "\n",
        "# @markdown Make sure you execute this cell to enable the widget!\n",
        "\n",
        "\n",
        "def my_inject(pars, t_start, t_lag=10.):\n",
        "  \"\"\"\n",
        "  Expects:\n",
        "  pars       : parameter dictionary\n",
        "  t_start    : pulse starts [ms]\n",
        "  t_lag      : pulse lasts  [ms]\n",
        "\n",
        "  Returns:\n",
        "  I          : extra pulse time\n",
        "  \"\"\"\n",
        "\n",
        "  # Retrieve simulation parameters\n",
        "  dt, range_t = pars['dt'], pars['range_t']\n",
        "  Lt = range_t.size\n",
        "\n",
        "  # Initialize\n",
        "  I = np.zeros(Lt)\n",
        "\n",
        "  # pulse timing\n",
        "  N_start = int(t_start / dt)\n",
        "  N_lag = int(t_lag / dt)\n",
        "  I[N_start:N_start + N_lag] = 1.\n",
        "\n",
        "  return I\n",
        "\n",
        "\n",
        "pars = default_pars(T=100)\n",
        "pars['tau_ou'] = 1.  # [ms]\n",
        "sig_ou = 0.1\n",
        "pars['I_ext_I'] = my_OU(pars, sig=sig_ou, myseed=2021)\n",
        "pars['rE_init'], pars['rI_init'] = 0.1, 0.1\n",
        "\n",
        "# pulse\n",
        "I_pulse = my_inject(pars, t_start=20., t_lag=10.)\n",
        "L_pulse = sum(I_pulse > 0.)\n",
        "\n",
        "\n",
        "def WC_with_pulse(SE=0.):\n",
        "  pars['I_ext_E'] = my_OU(pars, sig=sig_ou, myseed=2022)\n",
        "  pars['I_ext_E'] += SE * I_pulse\n",
        "\n",
        "  rE, rI = simulate_wc(**pars)\n",
        "\n",
        "  plt.figure(figsize=(8, 5.5))\n",
        "  ax = plt.subplot(111)\n",
        "  ax.plot(pars['range_t'], rE, 'b', label='E population')\n",
        "  ax.plot(pars['range_t'], rI, 'r', label='I population')\n",
        "\n",
        "  ax.plot(pars['range_t'][I_pulse > 0.], 1.0*np.ones(L_pulse), 'r', lw=3.)\n",
        "  ax.text(25, 1.05, 'stimulus on', horizontalalignment='center',\n",
        "          verticalalignment='bottom')\n",
        "  ax.set_ylim(-0.03, 1.2)\n",
        "  ax.set_xlabel('t (ms)')\n",
        "  ax.set_ylabel('Activity')\n",
        "  ax.legend(loc='best')\n",
        "  plt.show()\n",
        "\n",
        "\n",
        "_ = widgets.interact(WC_with_pulse, SE=(0.0, 1.0, .05))"
      ],
      "execution_count": null,
      "outputs": []
    },
    {
      "cell_type": "markdown",
      "metadata": {
        "id": "T_H95y9bz98M"
      },
      "source": [
        "Explore what happens when a second, brief current is applied to the inhibitory population. "
      ]
    }
  ]
}