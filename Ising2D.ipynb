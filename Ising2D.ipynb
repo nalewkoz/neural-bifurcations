{
  "nbformat": 4,
  "nbformat_minor": 0,
  "metadata": {
    "colab": {
      "name": "Ising2D.ipynb",
      "private_outputs": true,
      "provenance": [],
      "collapsed_sections": [
        "hcOcX4zPbSDY",
        "ZtSuqvOsgoTY"
      ],
      "authorship_tag": "ABX9TyO5G/QkV1J+oJvTVMB1dGlI",
      "include_colab_link": true
    },
    "kernelspec": {
      "name": "python3",
      "display_name": "Python 3"
    },
    "language_info": {
      "name": "python"
    }
  },
  "cells": [
    {
      "cell_type": "markdown",
      "metadata": {
        "id": "view-in-github",
        "colab_type": "text"
      },
      "source": [
        "<a href=\"https://colab.research.google.com/github/nalewkoz/neural-bifurcations/blob/main/Ising2D.ipynb\" target=\"_parent\"><img src=\"https://colab.research.google.com/assets/colab-badge.svg\" alt=\"Open In Colab\"/></a>"
      ]
    },
    {
      "cell_type": "markdown",
      "metadata": {
        "id": "g1c9HfIta79z"
      },
      "source": [
        "Run the cell below to load helper functions."
      ]
    },
    {
      "cell_type": "code",
      "metadata": {
        "id": "33SFZOOxdiwr",
        "cellView": "form"
      },
      "source": [
        "#@title\n",
        "import matplotlib.pyplot as plt\n",
        "import numpy as np\n",
        "import torch\n",
        "import torchvision\n",
        "import time\n",
        "from matplotlib import rc\n",
        "rc('font',**{'size':20})\n",
        "\n",
        "## Not used at the moment:\n",
        "precision = torch.double\n",
        "\n",
        "## Check if a GPU available\n",
        "if(torch.cuda.is_available()):\n",
        "  print(\"GPU available: \"+torch.cuda.get_device_name())\n",
        "  dev = \"cuda:0\"\n",
        "else:\n",
        "  print(\"No GPU available... Using CPU.\")\n",
        "  dev = \"cpu:0\"\n",
        "\n",
        "device = torch.device(dev)\n",
        "torch.cuda.empty_cache()\n",
        "\n",
        "def initState(params):\n",
        "    #X = torch.empty((params[\"Nx\"], params[\"Ny\"]), dtype = torch.bool) ## THIS DOESN'T REALLY WORK AS EXPECTED! DOESN'T SEEM TO CONVERGE TO THERMAL EQ. AVOID TORCH.EMPTY!\n",
        "#   X = torch.zeros((params[\"Nx\"], params[\"Ny\"]), dtype = torch.bool)\n",
        "    X = torch.rand((params[\"Nx\"], params[\"Ny\"])) < (1 + params[\"M0\"])/2\n",
        "    return X\n",
        "\n",
        "def chooseRandomSpin(params):\n",
        "    #return (torch.randint(params[\"Nx\"],(1,1)), torch.randint(params[\"Nx\"],(1,1)))\n",
        "    return (np.random.randint(0,params[\"Nx\"]), np.random.randint(0,params[\"Ny\"]) )\n",
        "\n",
        "def get_neighbors(spinInds, params):\n",
        "    nb = []\n",
        "    ## THIS IS WRONG:\n",
        "    ## leaving just to remember my stupid mistake.. It creates two independent lattices! \n",
        "    #for dx in (-1,1):\n",
        "    #    for dy in (-1,1):\n",
        "    #        sI = ( (spinInds[0] + dx)%params[\"Nx\"], (spinInds[1] + dy)%params[\"Ny\"] )\n",
        "    #        nb.append(sI)\n",
        "    for dx in (-1,1):\n",
        "        sI = ( (spinInds[0] + dx)%params[\"Nx\"], spinInds[1] )\n",
        "        nb.append(sI)\n",
        "        sI = ( spinInds[0], (spinInds[1] + dx)%params[\"Ny\"] )\n",
        "        nb.append(sI)\n",
        "    return nb\n",
        "\n",
        "def singleSpinStep(X, spinInds, params):\n",
        "    #print(\"single step\")\n",
        "\n",
        "    ## Metropolis-Hasting\n",
        "    # calculate the local field\n",
        "    heff = params[\"h\"]\n",
        "    for nI in get_neighbors(spinInds, params):\n",
        "        heff = heff - params[\"J\"]*(-1)**(X[nI])     # positive neighbors pull us up (positive heff)\n",
        "    # calculate the current local energy of the spin of interest\n",
        "    e0 = heff*(-1)**(X[spinInds])\n",
        "    # change in the energy from flipping would be: -e0-e0 = -2e0\n",
        "    de = -2*e0\n",
        "    # check if a flip needed:\n",
        "    if de < 0: # new energy lower than old, flip!\n",
        "        X[spinInds] = ~ X[spinInds]\n",
        "    else:\n",
        "        if np.random.rand() < np.exp( - de/params[\"T\"] ):\n",
        "            X[spinInds] = ~ X[spinInds]  \n",
        "    # Note: I could write much shorter code (noticing that in the first case of de < 0 the second condition is always fullfilled), but it is going to be slower (likely)\n",
        "\n",
        "def magnetization(X, params):\n",
        "    nPositive = torch.sum(X, (0,1))\n",
        "    return 2*nPositive/(params[\"Nx\"]*params[\"Ny\"]) - 1\n",
        "\n",
        "def simulate(params, tsteps = 10000, Nhist = 100):\n",
        "    print(\"Simulating... \",end='')\n",
        "    # when take a screenshot:\n",
        "    steps_ss = torch.linspace(0,tsteps,Nhist).to(int)\n",
        "    ss_ind   = 0\n",
        "    # variables to be returned\n",
        "    Mhist = []\n",
        "    \n",
        "    X = initState(params)\n",
        "    Xhist = torch.zeros((Nhist,params[\"Nx\"],params[\"Ny\"]), dtype=torch.bool)\n",
        "    Thist = []\n",
        "    Mhist.append( magnetization(X,params) )\n",
        "      \n",
        "    # loop over \"time\"\n",
        "    for t in range(tsteps):\n",
        "        # Add screenshot if it's time:\n",
        "        if steps_ss[ss_ind]==t:\n",
        "            Xhist[ss_ind,:,:] = X\n",
        "            Thist.append(t)\n",
        "            ss_ind = ss_ind + 1\n",
        "        # Simulate\n",
        "        singleSpinStep(X, chooseRandomSpin(params), params)\n",
        "        # Keep the history o magnetization for each step\n",
        "        Mhist.append( magnetization(X,params) )\n",
        "\n",
        "    # Check if we didn't skip the last time step\n",
        "    if ss_ind < len(steps_ss):\n",
        "        if steps_ss[ss_ind] == tsteps:\n",
        "            Xhist[ss_ind,:,:] = X\n",
        "            Thist.append(tsteps)\n",
        "\n",
        "    print(\"DONE\")\n",
        "\n",
        "    return Mhist, Xhist\n",
        "\n",
        "def draw_Mhist_spins(Mhist, Xhist, params):\n",
        "    print(\"Drawing... \",end='')\n",
        "    # Magnetization as a function of time:\n",
        "    fig = plt.figure()\n",
        "    plt.plot(range(len(Mhist)), Mhist)\n",
        "    plt.xlabel(\"Time (step)\")\n",
        "    plt.ylabel(\"Magnetization\")\n",
        "    # Last state:\n",
        "    fig3 = plt.figure()\n",
        "    plt.imshow(X[0,:,:], vmin=0, vmax=1)\n",
        "    plt.title(\"Initial state\")\n",
        "    plt.axis('off')\n",
        "    # Last state:\n",
        "    fig2 = plt.figure()\n",
        "    plt.imshow(X[-1,:,:], vmin=0, vmax=1)\n",
        "    plt.title(\"  End state  \")\n",
        "    plt.axis('off')\n",
        "    ## Sequence of images in a grid:\n",
        "    #grid_img = torchvision.utils.make_grid(X.reshape((X.shape[0],1,X.shape[1],X.shape[1])), nrow=5)\n",
        "    #fig3 = plt.figure(figsize=(20,20))\n",
        "    #plt.imshow(grid_img[0,:,:])\n",
        "    #plt.axis('off')\n",
        "    print(\"DONE\")\n"
      ],
      "execution_count": null,
      "outputs": []
    },
    {
      "cell_type": "markdown",
      "metadata": {
        "id": "hcOcX4zPbSDY"
      },
      "source": [
        "###Exercise 1\n",
        "Run simulations for different control parameters $T$ (temperature) and $h$ (external field). Note the difference in the behavior of the system (magnetization $M$ in particular) above and below the critical temperature.  \n",
        "\n",
        "Are the results affected by the value of the initial magnetization? Why?\n",
        "\n",
        "$$M = \\frac{1}{N}\\sum\\limits_{i=1}^N s_i \\in [-1,1]$$ "
      ]
    },
    {
      "cell_type": "code",
      "metadata": {
        "id": "MEE0wP81Xj83"
      },
      "source": [
        "# For J=1 the critical temperature is:\n",
        "Tc = 2/np.log(1+np.sqrt(2))\n",
        "print(f\"Critical temperature according to Onsager's solution: {Tc:.2f}\")\n",
        "\n",
        "## General parameters\n",
        "params = {\n",
        "        \"Nx\":       int(4e1),   # number of rows\n",
        "        \"Ny\":       int(4e1),   # number of columns\n",
        "        \"J\":        1,          # interaction strength (nearest neighbors)\n",
        "        \"T\":        Tc/2,     # temperature (kb = 1)\n",
        "        \"h\":        0.0,          # external field\n",
        "        \"M0\":       0.5          # initial magnetization\n",
        "}\n",
        "\n",
        "# SIMULATE:\n",
        "Mhist, X = simulate(params, tsteps = int(1e5))\n",
        "\n",
        "# DRAW:\n",
        "draw_Mhist_spins(Mhist, X, params)\n"
      ],
      "execution_count": null,
      "outputs": []
    },
    {
      "cell_type": "markdown",
      "metadata": {
        "id": "X4GFy-jccp0T"
      },
      "source": [
        "Run the cell below to generate an animation."
      ]
    },
    {
      "cell_type": "code",
      "metadata": {
        "id": "MvrHzgOVdoG2",
        "cellView": "form"
      },
      "source": [
        "#@title\n",
        "from matplotlib import animation, rc\n",
        "from IPython.display import HTML#, Image # For GIF\n",
        "rc('animation', html='html5')\n",
        "\n",
        "fig = plt.figure()\n",
        "Xdata = torch.zeros_like(X[0,:,:])\n",
        "im = plt.imshow(Xdata, interpolation='none', vmin=0, vmax=1)\n",
        "plt.axis('off')\n",
        "\n",
        "def init():\n",
        "    #im.set_data(Xdata)\n",
        "    #ax.axis('off')\n",
        "    return [im]\n",
        "\n",
        "def update(frame):\n",
        "    im.set_array(X[frame,:,:])\n",
        "    return [im]\n",
        "\n",
        "anim = animation.FuncAnimation(fig, update, frames=X.shape[0],\n",
        "                    init_func=init, blit=True)\n",
        "\n",
        "HTML(anim.to_html5_video())"
      ],
      "execution_count": null,
      "outputs": []
    },
    {
      "cell_type": "code",
      "metadata": {
        "id": "Dt8Rit4WdpKy"
      },
      "source": [
        ""
      ],
      "execution_count": null,
      "outputs": []
    },
    {
      "cell_type": "markdown",
      "metadata": {
        "id": "ZtSuqvOsgoTY"
      },
      "source": [
        "###Exercise 2\n",
        "Fill in the gaps in the code below. Plot the equilibrium magnetization as a function of temperature for a fixed value of $h$. \n",
        "\n",
        "Note that we have to run multiple Monte Carlo simulations, which is time consuming. Start from a low number of time steps (e.g., $tsteps=1000$) to check your code. If everything works as expected, increase the number of time steps to $10^5$ (it will take approximately $3$ minutes to finish). \n",
        "\n",
        "- Is the transition sharp? Why?\n",
        "- What happens if the number of time steps is too low?"
      ]
    },
    {
      "cell_type": "code",
      "metadata": {
        "id": "Gs74Aas9g8bs"
      },
      "source": [
        "Ttab = np.linspace(Tc/2, 3*Tc/2, 10)    # Values of the temperature at which we want to run simulations\n",
        "mtab = []                               # Magnetizations (a list of values for each temperature)\n",
        "\n",
        "for T in Ttab:\n",
        "    params[\"T\"] = T\n",
        "    Mhist, X = simulate(params, tsteps = int(1e5))\n",
        "    m = ...\n",
        "    mtab.append(m)\n",
        "\n",
        "fig = plt.figure()\n",
        "plt.plot([Ttab[0], Ttab[-1]], [0, 0],'k--')\n",
        "plt.plot(Tc, 0,'ro')\n",
        "plt.plot(..., ..., 'o')\n",
        "plt.xlabel(\"Temperature\")\n",
        "plt.ylabel(\"Magnetization\")\n",
        "print(\"DONE\")"
      ],
      "execution_count": null,
      "outputs": []
    },
    {
      "cell_type": "code",
      "metadata": {
        "id": "p24he6Xjhum2"
      },
      "source": [
        ""
      ],
      "execution_count": null,
      "outputs": []
    }
  ]
}