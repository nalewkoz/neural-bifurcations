{
  "nbformat": 4,
  "nbformat_minor": 0,
  "metadata": {
    "colab": {
      "name": "bifurcations1.ipynb",
      "provenance": [],
      "collapsed_sections": [
        "s8XI0Y7vfMVR",
        "cqSa19FB6xO0",
        "XCQb_cUuMP8k"
      ],
      "authorship_tag": "ABX9TyNwNb1rEDMDVXYro7ZljInT",
      "include_colab_link": true
    },
    "kernelspec": {
      "name": "python3",
      "display_name": "Python 3"
    },
    "language_info": {
      "name": "python"
    }
  },
  "cells": [
    {
      "cell_type": "markdown",
      "metadata": {
        "id": "view-in-github",
        "colab_type": "text"
      },
      "source": [
        "<a href=\"https://colab.research.google.com/github/nalewkoz/neural-bifurcations/blob/main/bifurcations1.ipynb\" target=\"_parent\"><img src=\"https://colab.research.google.com/assets/colab-badge.svg\" alt=\"Open In Colab\"/></a>"
      ]
    },
    {
      "cell_type": "markdown",
      "metadata": {
        "id": "myJ_DYl7fLym"
      },
      "source": [
        "Run the cell below to load helper functions"
      ]
    },
    {
      "cell_type": "code",
      "metadata": {
        "id": "b1ox1eePfBRN",
        "cellView": "form"
      },
      "source": [
        "#@title\n",
        "import matplotlib.pyplot as plt\n",
        "import numpy as np\n",
        "from matplotlib import rc\n",
        "rc('font',**{'size':18})\n",
        "\n",
        "def plot_xdot(x_min, x_max, rtab, Nx = 300):\n",
        "    x = np.linspace(x_min, x_max, Nx)\n",
        "    Nr = len(rtab)\n",
        "\n",
        "    fig, ax = plt.subplots(1,Nr, figsize=(16,4)) \n",
        "\n",
        "    for i in range(Nr):\n",
        "        ax[i].plot( (x[0], x[-1]), (0,0), 'k--')\n",
        "        ax[i].plot(x, f(x, rtab[i]), linewidth = 3)\n",
        "        ax[i].set_xlabel('x')\n",
        "        ax[i].set_title(f'r={rtab[i]}')\n",
        "    ax[0].set_ylabel('f(x)')\n",
        "\n",
        "def bifurcation_diagram(x_min, x_max, Nx = 1000):\n",
        "    x = np.linspace(x_min, x_max, Nx)\n",
        "    r = rOfx(x)\n",
        "    fig = plt.figure(figsize=(8,5))\n",
        "    plt.plot(r, x, '.')\n",
        "    plt.xlabel('r')\n",
        "    plt.ylabel('x*')"
      ],
      "execution_count": null,
      "outputs": []
    },
    {
      "cell_type": "markdown",
      "metadata": {
        "id": "s8XI0Y7vfMVR"
      },
      "source": [
        "###Exercise 1\n",
        "\n",
        "Let $$\\dot{x} = f(x)$$ and \n",
        "\n",
        "\n",
        "(a) $f(x) = r - x - e^{-x}$\n",
        "\n",
        "(b) $f(x) = r \\ln{x} + x - 1$\n",
        "\n",
        "(c) $f(x) = x + \\tanh(r x)$\n",
        "\n",
        "*(d) $f(x) = r x - \\sin(x)$\n",
        "\n",
        "**Using the code below**, in each case plot $\\dot{x}$ as a function of $x$ for different values of the control parameter $r$. You will have to fill out blanks denoted by \"...\"\n",
        "\n",
        "Sketch (pen and paper is fine) all the qualitatively different vector fields that occur as $r$ is varied. \n",
        "Find values of $r$ at which bifurcations occur, and classify each bifurcation as saddle-node, transcritical, supercritical pitchfork, or subcritical pitchfork. "
      ]
    },
    {
      "cell_type": "code",
      "metadata": {
        "id": "swkZEbhbpqz0"
      },
      "source": [
        "def f(x,r):\n",
        "    return ...\n",
        "\n",
        "# x in the range [x_min, x_max]:\n",
        "x_min   = ...\n",
        "x_max   = ...\n",
        "\n",
        "# values of r to be plotted (best results with 3 values)\n",
        "rtab = (..., ..., ...)\n",
        "\n",
        "plot_xdot(x_min, x_max, rtab)"
      ],
      "execution_count": null,
      "outputs": []
    },
    {
      "cell_type": "markdown",
      "metadata": {
        "id": "cqSa19FB6xO0"
      },
      "source": [
        "###Exercise 2\n",
        "Plot bifurcation diagrams ($f(x)$'s as before), i.e., the values of $x^*$ vs. $r$. There is an easy way to do this, and a harder (but perhaps more intuitive) using a root finding algorithm (e.g., Newton-Raphson).\n",
        "\n",
        "Note that $x^*$ denotes a fixed point of the flow, so we need to solve the equation\n",
        "$$f(x^*) = 0$$\n",
        "\n",
        "The easy way is based on the observation that often the dependance of $f(x)$ on the control parameter is simpler than on $x$. \n",
        "\n",
        "You can write your own code, or use the code provided below. \n",
        "You still have to figure out what \"rOfx(x)\" function should be, and provide a reasonable range of values for $x$.\n"
      ]
    },
    {
      "cell_type": "code",
      "metadata": {
        "colab": {
          "base_uri": "https://localhost:8080/",
          "height": 350
        },
        "id": "Q6NISfkmsH0u",
        "outputId": "9d2a8bd8-a907-4079-f5f1-862631705c44"
      },
      "source": [
        "def rOfx(x):\n",
        "    return ...\n",
        "\n",
        "# x in the range [x_min, x_max]:\n",
        "x_min   = ...\n",
        "x_max   = ...\n",
        "\n",
        "bifurcation_diagram(x_min, x_max)"
      ],
      "execution_count": null,
      "outputs": [
        {
          "output_type": "display_data",
          "data": {
            "image/png": "[encoded data removed]",
            "text/plain": [
              "<Figure size 576x360 with 1 Axes>"
            ]
          },
          "metadata": {
            "tags": [],
            "needs_background": "light"
          }
        }
      ]
    },
    {
      "cell_type": "markdown",
      "metadata": {
        "id": "XCQb_cUuMP8k"
      },
      "source": [
        "###Exercise 3\n",
        "In this exercise you are finally \"on your own\".\n",
        "\n",
        "Implement Euler's method and, for a fixed $r$ and a chosen flow $f(x)$ from Exercise 1, plot $x(t)$ for a few different initial conditions.\n",
        "\n",
        "Analyze and answer:\n",
        "* Do results depend on $\\Delta t$? How? It is instructive to check this using $f(x) = r x (1-x)$. \n",
        "* Are your predictions, summarized in the bifurcation diagrams, confirmed?\n",
        "* Are lower values of $\\Delta t$ always better?\n",
        "* Could you think of any better ways of solving these equations than the Euler's method?"
      ]
    },
    {
      "cell_type": "code",
      "metadata": {
        "id": "YOtyZ0-M3lVx"
      },
      "source": [
        "..."
      ],
      "execution_count": null,
      "outputs": []
    }
  ]
}